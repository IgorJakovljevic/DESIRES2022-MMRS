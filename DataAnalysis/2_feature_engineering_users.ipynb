{
 "cells": [
  {
   "cell_type": "code",
   "execution_count": null,
   "id": "faf2983d-e2c9-4e97-b408-4c4e05ec1bf0",
   "metadata": {},
   "outputs": [],
   "source": [
    "import pandas as pd\n",
    "import numpy as np\n",
    "import plotly.express as px\n",
    "\n",
    "import pprint\n",
    "import json\n",
    "\n",
    "import dask\n",
    "import dask.dataframe as dd\n",
    "from dask.multiprocessing import get\n",
    "from collections import Counter\n",
    "\n",
    "import networkx as nx\n",
    "\n",
    "pp = pprint.PrettyPrinter(indent=4)"
   ]
  },
  {
   "cell_type": "code",
   "execution_count": null,
   "id": "5c8c14f7-4833-4c54-96b1-82e9cd8393e6",
   "metadata": {},
   "outputs": [],
   "source": [
    "people = pd.read_pickle(\"./data/intermediate/people.pkl\")\n",
    "teams = pd.read_pickle(\"./data/intermediate/teams.pkl\")\n",
    "channels = pd.read_pickle(\"./data/intermediate/channels.pkl\")"
   ]
  },
  {
   "cell_type": "code",
   "execution_count": null,
   "id": "62c59f27-5538-4bc2-9d9a-d436a7598b7a",
   "metadata": {
    "tags": []
   },
   "outputs": [],
   "source": [
    "people.head(3)"
   ]
  },
  {
   "cell_type": "code",
   "execution_count": null,
   "id": "150b6b1d-8621-49e4-b87a-785ca69c6c01",
   "metadata": {
    "tags": []
   },
   "outputs": [],
   "source": [
    "teams.head(3)"
   ]
  },
  {
   "cell_type": "code",
   "execution_count": null,
   "id": "d0684225-e538-437c-9d6d-dffc380cef58",
   "metadata": {
    "tags": []
   },
   "outputs": [],
   "source": [
    "channels.head(3)"
   ]
  },
  {
   "cell_type": "markdown",
   "id": "e9eb95e8-595e-40ce-9a66-16324645704e",
   "metadata": {},
   "source": [
    "## Enrich channels\n",
    "Calculate the number of active users in a channel and the number of messages in each channel"
   ]
  },
  {
   "cell_type": "code",
   "execution_count": null,
   "id": "b7f9e1ad-6132-4fcb-b5a7-7ea51ecedb7d",
   "metadata": {},
   "outputs": [],
   "source": [
    "channel_active_users = {}\n",
    "calc_channel_message_count = {}\n",
    "\n",
    "for i, person in people.iterrows():\n",
    "    channel_message_count = person[\"channel message counts\"]\n",
    "\n",
    "    for i, channel in enumerate(person[\"channels\"]):\n",
    "        if channel not in channel_active_users:\n",
    "            channel_active_users[channel] = 0\n",
    "            calc_channel_message_count[channel] = 0\n",
    "\n",
    "        if channel_message_count[i] > 0:\n",
    "            channel_active_users[channel] += 1\n",
    "        calc_channel_message_count[channel] = channel_message_count[i]"
   ]
  },
  {
   "cell_type": "code",
   "execution_count": null,
   "id": "c55ac8ea-f194-47bf-8dd0-d7e7ae66689a",
   "metadata": {},
   "outputs": [],
   "source": [
    "def enrich_channels(row):\n",
    "    row[\"active members\"] = 0\n",
    "\n",
    "    if row[\"label\"] in channel_active_users:\n",
    "        row[\"active members\"] = channel_active_users[row[\"label\"]]\n",
    "\n",
    "    return row\n",
    "\n",
    "\n",
    "channels = (\n",
    "    dd.from_pandas(channels, npartitions=24)\n",
    "    .map_partitions(lambda df: df.apply((lambda row: enrich_channels(row)), axis=1))\n",
    "    .compute(scheduler=\"processes\")\n",
    ")"
   ]
  },
  {
   "cell_type": "code",
   "execution_count": null,
   "id": "2566de0a-0fba-476a-a9a9-b9aceee6b4af",
   "metadata": {},
   "outputs": [],
   "source": [
    "channels.to_pickle(\"./data/intermediate/channels_enriched.pkl\")"
   ]
  },
  {
   "cell_type": "code",
   "execution_count": null,
   "id": "431e4498-b6cd-4514-8147-37b81702bd87",
   "metadata": {},
   "outputs": [],
   "source": [
    "channels.head(3)"
   ]
  },
  {
   "cell_type": "markdown",
   "id": "558649e3-51fe-4501-aad0-3f231f0b4f27",
   "metadata": {},
   "source": [
    "## Acquaintance analysis "
   ]
  },
  {
   "cell_type": "code",
   "execution_count": null,
   "id": "d2d2e419-d06b-43d7-ab58-1e44ed33244e",
   "metadata": {},
   "outputs": [],
   "source": [
    "channel_members = {}\n",
    "\n",
    "for i, person in people.iterrows():\n",
    "    for channel in person.channels:\n",
    "        if channel in channel_members:\n",
    "            channel_members[channel].append(person.userid)\n",
    "        else:\n",
    "            channel_members[channel] = [person.userid]"
   ]
  },
  {
   "cell_type": "code",
   "execution_count": null,
   "id": "c58df31e-1143-49d9-8757-23a5cacd1d08",
   "metadata": {},
   "outputs": [],
   "source": [
    "def add_channel_member_info(row):\n",
    "    row[\"channel members\"] = []\n",
    "\n",
    "    if row[\"label\"] in channel_members:\n",
    "        row[\"channel members\"] = channel_members[row[\"label\"]]\n",
    "\n",
    "    return row\n",
    "\n",
    "\n",
    "channels = (\n",
    "    dd.from_pandas(channels, npartitions=24)\n",
    "    .map_partitions(lambda df: df.apply((lambda row: add_channel_member_info(row)), axis=1))\n",
    "    .compute(scheduler=\"processes\")\n",
    ")"
   ]
  },
  {
   "cell_type": "code",
   "execution_count": null,
   "id": "46cf2d1f-6900-4e07-9b96-7aedd9b45720",
   "metadata": {},
   "outputs": [],
   "source": [
    "channels.head(5)"
   ]
  },
  {
   "cell_type": "code",
   "execution_count": null,
   "id": "56b1cc57-d2b8-42c3-8ecb-2e36b6c2997e",
   "metadata": {},
   "outputs": [],
   "source": [
    "channels.to_pickle(\"./data/intermediate/channels_enriched.pkl\")"
   ]
  },
  {
   "cell_type": "code",
   "execution_count": null,
   "id": "7bf3cf0b-e04f-4cb6-a971-b16e78b6f842",
   "metadata": {},
   "outputs": [],
   "source": [
    "user_channel_dict = {}\n",
    "\n",
    "for i, person in people.iterrows():\n",
    "    user_channel_dict[person[\"userid\"]] = {}\n",
    "\n",
    "    message_count_list = [message_count for message_count in person[\"channel message counts\"]]\n",
    "\n",
    "    for entry in zip(person[\"channels\"], message_count_list):\n",
    "        user_channel_dict[person[\"userid\"]][entry[0]] = entry[1]"
   ]
  },
  {
   "cell_type": "code",
   "execution_count": null,
   "id": "8f61e754-129b-4a73-b303-1569df4a0152",
   "metadata": {},
   "outputs": [],
   "source": [
    "messages_per_channel = pd.Series(channels[\"message count\"].values, index=channels.label).to_dict()\n",
    "\n",
    "active_members_per_channel = pd.Series(\n",
    "    channels[\"active members\"].values, index=channels.label\n",
    ").to_dict()"
   ]
  },
  {
   "cell_type": "code",
   "execution_count": null,
   "id": "20332d61-526e-4f7b-83e5-21483963d71f",
   "metadata": {
    "tags": []
   },
   "outputs": [],
   "source": [
    "acquaintances = {}\n",
    "\n",
    "for i, person in people.iterrows():\n",
    "\n",
    "    acquaintances[person[\"userid\"]] = {}\n",
    "    print(person[\"userid\"], end=\"\\r\")\n",
    "\n",
    "    for channel in person[\"channels\"]:\n",
    "        channel_member_count = len(channel_members[channel])\n",
    "\n",
    "        if channel_member_count < 2:\n",
    "            continue\n",
    "\n",
    "        channel_messages = 0\n",
    "        active_channel_members = 0\n",
    "\n",
    "        if channels[channels.label == channel].size > 0:\n",
    "            channel_messages = messages_per_channel[channel]\n",
    "            active_channel_members = active_members_per_channel[channel]\n",
    "\n",
    "        acquaintance_list = channel_members[channel].copy()\n",
    "        acquaintance_list.remove(person[\"userid\"])\n",
    "\n",
    "        for acquaintance in acquaintance_list:\n",
    "            if acquaintance not in acquaintances[person[\"userid\"]]:\n",
    "                acquaintances[person[\"userid\"]][acquaintance] = {\"score\": 0, \"channels_shared\": 0}\n",
    "\n",
    "            if channel_messages > 0 and channel_member_count > 0 and active_channel_members > 0:\n",
    "                acquaintances[person[\"userid\"]][acquaintance][\"score\"] += (\n",
    "                    (1 + (2 / channel_member_count))\n",
    "                    * (user_channel_dict[acquaintance][channel] / channel_messages)\n",
    "                    * (1 + (1 / active_channel_members))\n",
    "                )\n",
    "\n",
    "            acquaintances[person[\"userid\"]][acquaintance][\"channels_shared\"] += 1\n",
    "\n",
    "\n",
    "print(f\"There are {len(acquaintances.keys())} acquaintances\", end=\"\\r\")"
   ]
  },
  {
   "cell_type": "code",
   "execution_count": null,
   "id": "1063eee7-f6d2-4339-8fe1-055d86220e83",
   "metadata": {},
   "outputs": [],
   "source": [
    "for user in acquaintances.keys():\n",
    "    for acquaintance in acquaintances[user].keys():\n",
    "        acquaintances[user][acquaintance][\"score\"] = round(\n",
    "            acquaintances[user][acquaintance][\"score\"], 8\n",
    "        )"
   ]
  },
  {
   "cell_type": "code",
   "execution_count": null,
   "id": "31a30631-e344-4088-abaa-d604e448ae10",
   "metadata": {},
   "outputs": [],
   "source": [
    "# Calculate user to acquaintances channel similarity\n",
    "for user in acquaintances.keys():\n",
    "    print(user, end=\"\\r\")\n",
    "    user_channel_count = len(people[people[\"userid\"] == user].channels.values)\n",
    "    for acquaintance in acquaintances[user]:\n",
    "        acquaintances[user][acquaintance][\"channel similarity score\"] = (\n",
    "            acquaintances[user][acquaintance][\"channels_shared\"] / user_channel_count\n",
    "        )\n",
    "\n",
    "print(f\"Done calculating CSS for all.\", end=\"\\r\")"
   ]
  },
  {
   "cell_type": "code",
   "execution_count": null,
   "id": "b413f00d-485f-49a0-afed-3c1dacfbb495",
   "metadata": {},
   "outputs": [],
   "source": [
    "acquaintances_list = []\n",
    "\n",
    "for user in acquaintances.keys():\n",
    "    acquaintances_list.append(\n",
    "        {\n",
    "            \"userid\": user,\n",
    "            \"acquaintances\": [acquaintance for acquaintance in acquaintances[user].keys()],\n",
    "            \"channels shared\": [\n",
    "                acquaintances[user][acquaintance][\"channels_shared\"]\n",
    "                for acquaintance in acquaintances[user].keys()\n",
    "            ],\n",
    "            \"channel similarity scores\": [\n",
    "                acquaintances[user][acquaintance][\"channel similarity score\"]\n",
    "                for acquaintance in acquaintances[user].keys()\n",
    "            ],\n",
    "            \"acquaintance likelihood scores\": [\n",
    "                acquaintances[user][acquaintance][\"score\"]\n",
    "                for acquaintance in acquaintances[user].keys()\n",
    "            ],\n",
    "        }\n",
    "    )\n",
    "\n",
    "acquaintances_df = pd.DataFrame(acquaintances_list)"
   ]
  },
  {
   "cell_type": "code",
   "execution_count": null,
   "id": "547e520e-0eee-4028-9997-ed967b5da57b",
   "metadata": {
    "tags": []
   },
   "outputs": [],
   "source": [
    "acquaintances_df.head(3)"
   ]
  },
  {
   "cell_type": "code",
   "execution_count": null,
   "id": "6d0fef79-d0d4-4919-ae6b-899fbe4a7e62",
   "metadata": {},
   "outputs": [],
   "source": [
    "acquaintances_df.to_pickle(\"./data/intermediate/acquaintances.pkl\")"
   ]
  },
  {
   "cell_type": "markdown",
   "id": "ee737e36-4295-428a-a18d-911eadffe387",
   "metadata": {},
   "source": [
    "## Normalise the acquaintance likelihood scores"
   ]
  },
  {
   "cell_type": "code",
   "execution_count": null,
   "id": "038fc519-8821-4fa6-b09a-14305290df59",
   "metadata": {},
   "outputs": [],
   "source": [
    "# Normalise ALS\n",
    "max_als = 0\n",
    "\n",
    "for i, row in acquaintances_df.iterrows():\n",
    "    if len(row[\"acquaintance likelihood scores\"]) and max_als < max(\n",
    "        row[\"acquaintance likelihood scores\"]\n",
    "    ):\n",
    "        max_als = max(row[\"acquaintance likelihood scores\"])\n",
    "\n",
    "print(f\"The max ALS score is {max_als}\")"
   ]
  },
  {
   "cell_type": "code",
   "execution_count": null,
   "id": "8cf9c455-c9c6-4238-984a-15c661232b52",
   "metadata": {},
   "outputs": [],
   "source": [
    "def normalise_ALS(row):\n",
    "    row[\"acquaintance likelihood scores\"] = [score / max_als for score in row[\"acquaintance likelihood scores\"]]\n",
    "    return row\n",
    "\n",
    "\n",
    "acquaintances_df = acquaintances_df.apply(normalise_ALS, axis=1)"
   ]
  },
  {
   "cell_type": "code",
   "execution_count": null,
   "id": "e9f0b7d1-07c2-4f65-af8f-f739fff2f6bf",
   "metadata": {},
   "outputs": [],
   "source": [
    "max_norm_als = 0\n",
    "\n",
    "for i, row in acquaintances_df.iterrows():\n",
    "    if len(row[\"acquaintance likelihood scores\"]) and max_norm_als < max(row[\"acquaintance likelihood scores\"]):\n",
    "        max_norm_als = max(row[\"acquaintance likelihood scores\"])\n",
    "\n",
    "print(f\"The max norm ALS score is {max_norm_als}\")"
   ]
  },
  {
   "cell_type": "code",
   "execution_count": null,
   "id": "9e421d8a-a6d8-4331-b187-1dd04519376b",
   "metadata": {},
   "outputs": [],
   "source": [
    "acquaintances_df.to_pickle(\"./data/intermediate/acquaintances.csv\")"
   ]
  },
  {
   "cell_type": "markdown",
   "id": "6063ac0b-01e9-45f7-b7b8-f6e48fed1f32",
   "metadata": {},
   "source": [
    "## Calculate the full acquaintance similarity score\n",
    "Takes into account also the channel similarity score and normalizes everything"
   ]
  },
  {
   "cell_type": "code",
   "execution_count": null,
   "id": "96899c12-9cc7-4d0f-b8a4-849886a5bbf7",
   "metadata": {},
   "outputs": [],
   "source": [
    "def calculate_acquaintance_similarity(row):\n",
    "    css = np.array(row[\"channel similarity scores\"])\n",
    "    als = np.array(row[\"acquaintance likelihood scores\"])\n",
    "    row[\"user similarity scores\"] = (1 + css) * als\n",
    "    return row\n",
    "\n",
    "\n",
    "acquaintances_df = acquaintances_df.apply(calculate_acquaintance_similarity, axis=1)"
   ]
  },
  {
   "cell_type": "code",
   "execution_count": null,
   "id": "cdb61b02-d24c-4f5f-81bd-0f26613bc270",
   "metadata": {},
   "outputs": [],
   "source": [
    "max_sim = 0\n",
    "\n",
    "for i, row in acquaintances_df.iterrows():\n",
    "    if len(row[\"user similarity scores\"]) and max_sim < max(row[\"user similarity scores\"]):\n",
    "        max_sim = max(row[\"user similarity scores\"])\n",
    "\n",
    "print(f\"The max similarity score is {max_sim}\")"
   ]
  },
  {
   "cell_type": "code",
   "execution_count": null,
   "id": "5097c596-e2fe-4098-b542-beeca6f2ede8",
   "metadata": {},
   "outputs": [],
   "source": [
    "def normalise_sim_score(row):\n",
    "    row[\"user similarity scores\"] = [score / max_sim for score in row[\"user similarity scores\"]]\n",
    "    return row\n",
    "\n",
    "\n",
    "acquaintances_df = acquaintances_df.apply(normalise_sim_score, axis=1)"
   ]
  },
  {
   "cell_type": "code",
   "execution_count": null,
   "id": "7a7de733-d467-4a35-a8b8-170cc7ef398d",
   "metadata": {},
   "outputs": [],
   "source": [
    "max_sim = 0\n",
    "\n",
    "for i, row in acquaintances_df.iterrows():\n",
    "    if len(row[\"user similarity scores\"]) and max_sim < max(row[\"user similarity scores\"]):\n",
    "        max_sim = max(row[\"user similarity scores\"])\n",
    "\n",
    "print(f\"The max similarity score is {max_sim}\")"
   ]
  },
  {
   "cell_type": "code",
   "execution_count": null,
   "id": "3ab30369-ca5e-4e26-a424-a4d91aa32eb9",
   "metadata": {
    "tags": []
   },
   "outputs": [],
   "source": [
    "acquaintances_df.head(3)"
   ]
  },
  {
   "cell_type": "code",
   "execution_count": null,
   "id": "40383ccc-d254-40f2-b254-0d56e19924df",
   "metadata": {},
   "outputs": [],
   "source": [
    "acquaintances_df.to_pickle(\"./data/intermediate/acquaintances.pkl\")"
   ]
  },
  {
   "cell_type": "markdown",
   "id": "61840c7a-8e45-4cd2-9812-5e41d3908dac",
   "metadata": {},
   "source": [
    "## User channel visiblity\n",
    "$S_c$ is the number of users in channel $c$ \n",
    "\n",
    "$V_{u_n, c} = \\gamma * 2 \\div S_c + (1-\\gamma) * (\\eta * M_{c,u_n} + (1-\\eta) * MT_{c,u_n})$"
   ]
  },
  {
   "cell_type": "markdown",
   "id": "41f05863-c56c-4e22-be24-1900a2d67daf",
   "metadata": {},
   "source": [
    "## Likelihood of ego knowing its neighbours\n",
    "\n",
    "likelihood of $u_e$ knowing $u_n$.\n",
    "\n",
    "$B_{u_n, u_e}$ indicates if $u_n$ and $u_e$ work in the same building  \n",
    "$O_{u_n, u_e}$ indicates if $u_n$ and $u_e$ belong to the same organisational unit  \n",
    "$BS_{u_e}$ is the size of building $u_e$ belongs to  \n",
    "$OS_{u_e}$ is the size of the organisationa unit $u_e$ belongs to  \n",
    "$C_{u_n,u_e}$ is the set of channels shared between $u_e$ and $u_n$  \n",
    "$N_{u_n,u_e}$ is the number of channels shared between $u_e$ and $u_n$. \n",
    "$N_{u_e}$ is the number of channels $u_e$ belongs to  \n",
    "\n",
    "$V_{u_e, u_n} = \\dfrac{1}{2} * \\biggl(\\epsilon * \\dfrac{\\sum_{c \\in C_{u_n,u_e}} V_{u_n, c}}{N_{u_n,u_e}} + (1-\\epsilon) * \\dfrac{N_{u_n,u_e}}{N_{u_e}} + \\dfrac{O_{u_n,u_e}}{OS_{u_e}} + \\dfrac{B_{u_n,u_e}}{BS_{u_e}}\\biggr)$"
   ]
  },
  {
   "cell_type": "code",
   "execution_count": null,
   "id": "0c79ec15-f2a5-42d7-93d9-80699d474aaa",
   "metadata": {},
   "outputs": [],
   "source": [
    "people = pd.read_pickle(\"./data/intermediate/people_enriched_1.6.2022.pkl\")\n",
    "teams = pd.read_pickle(\"./data/intermediate/teams_enriched.pkl\")\n",
    "channels = pd.read_pickle(\"./data/intermediate/channels_enriched_1.6.2022.pkl\")\n",
    "acquaintances = pd.read_pickle(\"./data/intermediate/acquaintances.pkl\")"
   ]
  },
  {
   "cell_type": "code",
   "execution_count": null,
   "id": "c235ca86-de71-4f93-a92c-58162978a37e",
   "metadata": {},
   "outputs": [],
   "source": [
    "acquaintances.head(3)"
   ]
  },
  {
   "cell_type": "code",
   "execution_count": null,
   "id": "470abc64-ae65-461f-a27b-16661f180fd6",
   "metadata": {},
   "outputs": [],
   "source": [
    "people.head(3)"
   ]
  },
  {
   "cell_type": "code",
   "execution_count": null,
   "id": "5f996cb3-4dbc-4f29-8737-7f731ef3a5ea",
   "metadata": {},
   "outputs": [],
   "source": [
    "user_buildings = pd.Series(people[\"building\"].values, index=people.userid).to_dict()\n",
    "user_org_units = pd.Series(people[\"organisational unit\"].values, index=people.userid).to_dict()"
   ]
  },
  {
   "cell_type": "code",
   "execution_count": null,
   "id": "2b43a580-5464-4ac0-9508-0f970818b81e",
   "metadata": {},
   "outputs": [],
   "source": [
    "# Expand acquaintances with info on same buiildings and same org unit\n",
    "def get_same_building_and_org_unit(row):\n",
    "    user_building = user_buildings[row.userid]\n",
    "    user_org_unit = user_org_units[row.userid]\n",
    "\n",
    "    row[\"share building\"] = [user_buildings[user] == user_building for user in row.acquaintances]\n",
    "    row[\"share org unit\"] = [user_org_units[user] == user_org_unit for user in row.acquaintances]\n",
    "    return row\n",
    "\n",
    "\n",
    "acquaintances = acquaintances.apply(get_same_building_and_org_unit, axis=1)"
   ]
  },
  {
   "cell_type": "code",
   "execution_count": null,
   "id": "21174e88-8b90-475b-a235-e198e20a7d06",
   "metadata": {},
   "outputs": [],
   "source": [
    "# calc full similarity score\n",
    "def get_extended_sim_score(row):\n",
    "\n",
    "    if len(row[\"user similarity scores\"]) == 0:\n",
    "        row[\"extended user similarity scores\"] = (\n",
    "            np.round((\n",
    "                0.5 * np.array(row[\"share building\"], dtype=bool)\n",
    "                + 0.5 * np.array(row[\"share org unit\"], dtype=bool)\n",
    "            )\n",
    "            / 2, 2)\n",
    "        ).tolist()\n",
    "    else:\n",
    "\n",
    "        row[\"extended user similarity scores\"] = (\n",
    "            np.round((\n",
    "                np.array(row[\"user similarity scores\"])\n",
    "                + 0.5 * np.array(row[\"share building\"], dtype=bool)\n",
    "                + 0.5 * np.array(row[\"share org unit\"], dtype=bool)\n",
    "            )\n",
    "            / 2, 2)\n",
    "        ).tolist()\n",
    "\n",
    "    return row\n",
    "\n",
    "\n",
    "acquaintances = acquaintances.apply(get_extended_sim_score, axis=1)"
   ]
  },
  {
   "cell_type": "code",
   "execution_count": null,
   "id": "25d27f66-3f52-4663-97cd-c1e2153503ec",
   "metadata": {},
   "outputs": [],
   "source": [
    "acquaintances.head(3)"
   ]
  },
  {
   "cell_type": "code",
   "execution_count": null,
   "id": "b0154125-e1c7-45ba-b27c-02d8c4352620",
   "metadata": {},
   "outputs": [],
   "source": [
    "all_user_similairty_values = []\n",
    "\n",
    "for i, entry in acquaintances.iterrows():\n",
    "    for score in entry['extended user similarity scores']:\n",
    "        all_user_similairty_values.append(score)"
   ]
  },
  {
   "cell_type": "code",
   "execution_count": null,
   "id": "99c5e91a-a718-4221-8415-1a2118c12551",
   "metadata": {},
   "outputs": [],
   "source": [
    "max(all_user_similairty_values)"
   ]
  },
  {
   "cell_type": "code",
   "execution_count": null,
   "id": "2e71427f-7397-4129-9655-4fc2838059e1",
   "metadata": {},
   "outputs": [],
   "source": [
    "acquaintances.to_pickle(\"./data/final/acquaintances.pkl\")"
   ]
  },
  {
   "cell_type": "code",
   "execution_count": null,
   "id": "16af00ee-650b-47a9-bad6-59adb501850a",
   "metadata": {},
   "outputs": [],
   "source": []
  }
 ],
 "metadata": {
  "kernelspec": {
   "display_name": "Python 3 (ipykernel)",
   "language": "python",
   "name": "python3"
  },
  "language_info": {
   "codemirror_mode": {
    "name": "ipython",
    "version": 3
   },
   "file_extension": ".py",
   "mimetype": "text/x-python",
   "name": "python",
   "nbconvert_exporter": "python",
   "pygments_lexer": "ipython3",
   "version": "3.9.5"
  }
 },
 "nbformat": 4,
 "nbformat_minor": 5
}
