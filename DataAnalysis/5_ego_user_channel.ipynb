{
 "cells": [
  {
   "cell_type": "markdown",
   "id": "82f61dd3-5896-4bbe-b6ee-8587e29494cc",
   "metadata": {},
   "source": [
    "### Calculate connections between an ego and its channels through neighbors "
   ]
  },
  {
   "cell_type": "code",
   "execution_count": null,
   "id": "e497bb8b-24af-4163-a06b-dff65b6a094f",
   "metadata": {},
   "outputs": [],
   "source": [
    "import pandas as pd\n",
    "import networkx as nx\n",
    "from collections import Counter\n",
    "import matplotlib.pyplot as plt\n",
    "import igraph as ig\n",
    "import numpy as np\n",
    "\n",
    "from networkx.algorithms.community import louvain_communities"
   ]
  },
  {
   "cell_type": "code",
   "execution_count": null,
   "id": "236ca1b2-ec59-45b7-bcd6-d8961915bafc",
   "metadata": {},
   "outputs": [],
   "source": [
    "def get_graph(useruser, userchannel):\n",
    "    uucg = nx.DiGraph()\n",
    "    uucg.add_nodes_from(useruser.userid.unique())\n",
    "    uucg.add_nodes_from(useruser.neighbourid.unique())\n",
    "    uucg.add_nodes_from(userchannel.channelid.unique())\n",
    "    \n",
    "    for i, row in useruser.iterrows():\n",
    "        uucg.add_edge(row.userid, row.neighbourid, weight=row.score)\n",
    "    \n",
    "    for i, row in userchannel.iterrows():\n",
    "        uucg.add_edge(row.userid, row.channelid, weight=row.score)\n",
    "        \n",
    "    print(uucg)\n",
    "    return uucg"
   ]
  },
  {
   "cell_type": "code",
   "execution_count": null,
   "id": "1be02532-e093-4ba8-8e5e-50dbc3ca239a",
   "metadata": {},
   "outputs": [],
   "source": [
    "def get_ego_connections(useruser, userchannel, uucg): \n",
    "    users = np.unique(np.concatenate((useruser.userid.unique(), useruser.neighbourid.unique()), axis=0)).tolist()\n",
    "    channels = userchannel.channelid.unique()\n",
    "\n",
    "    useruserchannel = []\n",
    "    \n",
    "    for i, node in enumerate(uucg.nodes):\n",
    "\n",
    "        if node not in users:\n",
    "            continue\n",
    "\n",
    "        print(f\"Working on node {i}\", end=\"\\r\")\n",
    "\n",
    "        ego = node\n",
    "\n",
    "        # Direct connections between the ego and channels with new values\n",
    "        new_connections = {}\n",
    "        # List of all ego neighbors \n",
    "        all_neighbours = {}\n",
    "        # List of all channels the ego is connected to\n",
    "        all_channels = {}\n",
    "\n",
    "        for neighbor in uucg.neighbors(ego):\n",
    "            if neighbor in users:\n",
    "                all_neighbours[neighbor] = uucg[ego][neighbor][\"weight\"]\n",
    "\n",
    "            if neighbor in channels:\n",
    "                all_channels[neighbor] = uucg[ego][neighbor][\"weight\"]\n",
    "\n",
    "        # Get connections between neighbors and channels and calcualte the ego neighbor channel connection weight\n",
    "        for neighbor in all_neighbours.keys():\n",
    "            for nn in uucg.neighbors(neighbor):\n",
    "                if nn in all_channels.keys():\n",
    "                    if nn in new_connections.keys():\n",
    "                        new_connections[nn][\"score\"] += 0.5 * all_neighbours[neighbor] + 0.5 * uucg[neighbor][nn][\"weight\"]\n",
    "                        # We will later use this value to normalise\n",
    "                        new_connections[nn][\"connection_count\"] += 1\n",
    "                    else:\n",
    "                        new_connections[nn] = {\n",
    "                            \"score\": 0.5 * all_neighbours[neighbor] + 0.5 * uucg[neighbor][nn][\"weight\"],\n",
    "                            \"connection_count\": 1\n",
    "                        }\n",
    "\n",
    "        for channel in new_connections.keys():  \n",
    "            useruserchannel.append({\n",
    "                \"userid\": ego,\n",
    "                \"channelid\": channel,\n",
    "                \"weight\": new_connections[channel][\"score\"] / new_connections[channel][\"connection_count\"]\n",
    "            }) \n",
    "\n",
    "    return useruserchannel"
   ]
  },
  {
   "cell_type": "code",
   "execution_count": null,
   "id": "24c40ab1-dfcd-4c01-91e0-b8bcd5b09d84",
   "metadata": {},
   "outputs": [],
   "source": [
    "user_user_conf = [\n",
    "    {\"j\": 0, \"k\": 0, \"l\": 1}\n",
    "]\n",
    "\n",
    "\n",
    "for uu_conf in user_user_conf:\n",
    "    print(\"Reading user-user\")\n",
    "    useruser = pd.read_pickle(f\"./data/final/user-user-{uu_conf['j']}-{uu_conf['k']}-{uu_conf['l']}.pkl\")\n",
    "\n",
    "    for j in [0,0.5,1]:\n",
    "        for k in [0,0.5,1]:\n",
    "            print(f\"Reading user-channel conf: {uu_conf=} {j=} {k=}\")\n",
    "            userchannel = pd.read_pickle(f\"./data/final/user-channel-{j}-{k}.pkl\")\n",
    "            print(\"Getting graph\")\n",
    "            uucg = get_graph(useruser, userchannel)\n",
    "            print(\"Getting new connections\")\n",
    "            ego_channel = get_ego_connections(useruser, userchannel,uucg)\n",
    "            print(\"Generating dataframe\")\n",
    "            ego_channel_df = pd.DataFrame(ego_channel)\n",
    "            print(ego_channel_df.head(5))\n",
    "            ego_channel_df.to_pickle(f\"./data/final/ego-channel-{j}-{k}-with-user-conf-{uu_conf['j']}-{uu_conf['k']}-{uu_conf['l']}.pkl\")"
   ]
  },
  {
   "cell_type": "code",
   "execution_count": null,
   "id": "31b764c0",
   "metadata": {},
   "outputs": [],
   "source": []
  }
 ],
 "metadata": {
  "interpreter": {
   "hash": "949777d72b0d2535278d3dc13498b2535136f6dfe0678499012e853ee9abcab1"
  },
  "kernelspec": {
   "display_name": "Python 3 (ipykernel)",
   "language": "python",
   "name": "python3"
  },
  "language_info": {
   "codemirror_mode": {
    "name": "ipython",
    "version": 3
   },
   "file_extension": ".py",
   "mimetype": "text/x-python",
   "name": "python",
   "nbconvert_exporter": "python",
   "pygments_lexer": "ipython3",
   "version": "3.9.5"
  }
 },
 "nbformat": 4,
 "nbformat_minor": 5
}
