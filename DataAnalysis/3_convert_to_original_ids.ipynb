{
 "cells": [
  {
   "cell_type": "code",
   "execution_count": null,
   "id": "09c2729c-dc50-4eb7-a5f5-c97b3f488589",
   "metadata": {},
   "outputs": [],
   "source": [
    "import pandas as pd\n",
    "import numpy as np\n",
    "import dask.dataframe as dd\n",
    "from dask.multiprocessing import get"
   ]
  },
  {
   "cell_type": "code",
   "execution_count": null,
   "id": "c60190fd-e679-4d10-8dd4-7e1bd93946f5",
   "metadata": {},
   "outputs": [],
   "source": [
    "acquaintances = pd.read_pickle(\"./data/final/acquaintances_cf.pkl\")\n",
    "people = pd.read_pickle(\"./data/final/people.pkl\")"
   ]
  },
  {
   "cell_type": "code",
   "execution_count": null,
   "id": "1aa1d16f-f44f-47f8-9c73-99e4b859453f",
   "metadata": {},
   "outputs": [],
   "source": [
    "channel_ids = pd.read_pickle(\"./data/intermediate/channel_ids.pkl\")\n",
    "user_ids = pd.read_pickle(\"./data/intermediate/user_ids.pkl\")"
   ]
  },
  {
   "cell_type": "code",
   "execution_count": null,
   "id": "3a4c67b5-e519-4832-8b8b-0e350fc90bde",
   "metadata": {},
   "outputs": [],
   "source": [
    "people.head(1)"
   ]
  },
  {
   "cell_type": "code",
   "execution_count": null,
   "id": "de1b14cb-352e-491e-85a6-359c9be08a9f",
   "metadata": {},
   "outputs": [],
   "source": [
    "acquaintances.head(1)"
   ]
  },
  {
   "cell_type": "code",
   "execution_count": null,
   "id": "4183fef7-32ee-45ba-93f5-a706cb0deb34",
   "metadata": {},
   "outputs": [],
   "source": [
    "user_ids.head(1)"
   ]
  },
  {
   "cell_type": "code",
   "execution_count": null,
   "id": "472dd0e2-337a-4c1b-8cc3-fb9e964cb209",
   "metadata": {},
   "outputs": [],
   "source": [
    "channel_ids.head(1)"
   ]
  },
  {
   "cell_type": "markdown",
   "id": "31c17d8c-0d31-4315-aa0e-502f9b111aaf",
   "metadata": {},
   "source": [
    "#### Generate id dicts"
   ]
  },
  {
   "cell_type": "code",
   "execution_count": null,
   "id": "d19071cc-575b-40dc-b086-640a8343bb56",
   "metadata": {},
   "outputs": [],
   "source": [
    "user_ids_dict = pd.Series(user_ids[\"old_id\"].values, index=user_ids.new_id).to_dict()"
   ]
  },
  {
   "cell_type": "code",
   "execution_count": null,
   "id": "3f331106-d8d8-4b59-a662-54697c63a884",
   "metadata": {},
   "outputs": [],
   "source": [
    "channel_ids_dict = pd.Series(channel_ids[\"old_id\"].values, index=channel_ids.new_id).to_dict()"
   ]
  },
  {
   "cell_type": "markdown",
   "id": "f2667182-154c-4878-aad7-7b675c9c9319",
   "metadata": {},
   "source": [
    "#### Convert user ids to original ids"
   ]
  },
  {
   "cell_type": "code",
   "execution_count": null,
   "id": "c58205d1-27a0-4ee2-961e-f58987778a3c",
   "metadata": {},
   "outputs": [],
   "source": [
    "def convert_userids(row):\n",
    "    row[\"userid\"] = user_ids_dict[row[\"userid\"]]\n",
    "    return row\n",
    "\n",
    "\n",
    "people = people.apply(convert_userids, axis=1)\n",
    "acquaintances = acquaintances.apply(convert_userids, axis=1)"
   ]
  },
  {
   "cell_type": "code",
   "execution_count": null,
   "id": "fc98e887-3a46-476a-8287-c9690e3d822e",
   "metadata": {},
   "outputs": [],
   "source": [
    "people.head(1)"
   ]
  },
  {
   "cell_type": "code",
   "execution_count": null,
   "id": "4bb52145-4321-4483-ad19-bffa450dd50b",
   "metadata": {},
   "outputs": [],
   "source": [
    "acquaintances.head(1)"
   ]
  },
  {
   "cell_type": "code",
   "execution_count": null,
   "id": "7dfd8205-ea55-47a2-a9fa-927c2ea058c8",
   "metadata": {},
   "outputs": [],
   "source": [
    "people.columns"
   ]
  },
  {
   "cell_type": "code",
   "execution_count": null,
   "id": "39a3c185-7753-4dc4-b3fd-0d0ebef212a7",
   "metadata": {},
   "outputs": [],
   "source": [
    "def get_masked_array(input_array, mask):\n",
    "    return np.ma.MaskedArray.compressed(np.ma.MaskedArray(input_array, mask=~mask)).tolist()\n",
    "\n",
    "\n",
    "def convert_channelids(row):\n",
    "    print(row[\"userid\"], end=\"\\r\")\n",
    "    channels = row[\"channels\"]\n",
    "\n",
    "    if len(channels) == 0:\n",
    "        return row\n",
    "\n",
    "    mask = np.array([channel in channel_ids_dict for channel in channels])\n",
    "\n",
    "    row[\"channels\"] = [channel_ids_dict[channel] for channel in get_masked_array(channels, mask)]\n",
    "    \n",
    "    for j in [0,0.5,1]:\n",
    "        for k in [0,0.5,1]:\n",
    "            row[f\"channel relevance {j} {k}\"] = get_masked_array(row[f\"channel relevance {j} {k}\"], mask)\n",
    "\n",
    "    return row\n",
    "\n",
    "\n",
    "people = people.apply(convert_channelids, axis=1)"
   ]
  },
  {
   "cell_type": "code",
   "execution_count": null,
   "id": "81eb570f-d0c8-45a4-bcc9-78c03398a5de",
   "metadata": {},
   "outputs": [],
   "source": [
    "people.head(1)"
   ]
  },
  {
   "cell_type": "code",
   "execution_count": null,
   "id": "31c83c8d-6efe-4433-acc3-5c44c0d7bfd9",
   "metadata": {},
   "outputs": [],
   "source": [
    "df_values = {}\n",
    "\n",
    "for j in [0,0.5,1]:\n",
    "    for k in [0,0.5,1]:\n",
    "        df_values[f\"channel relevance {j} {k}\"] = []\n",
    "\n",
    "\n",
    "\n",
    "for i, row in people.iterrows():\n",
    "    print(f\"Now processing row {i}\", end=\"\\r\")\n",
    "\n",
    "    for c, channel in enumerate(row.channels):\n",
    "        for j in [0,0.5,1]:\n",
    "            for k in [0,0.5,1]:\n",
    "                df_values[f\"channel relevance {j} {k}\"].append({\n",
    "                    \"userid\": row.userid,\n",
    "                    \"channelid\": channel,\n",
    "                    \"score\": row[f\"channel relevance {j} {k}\"][c],\n",
    "                })"
   ]
  },
  {
   "cell_type": "code",
   "execution_count": null,
   "id": "d69536ff-fdb0-4bd2-927a-f2cbaa66f261",
   "metadata": {},
   "outputs": [],
   "source": [
    "pd.DataFrame(df_values[\"channel relevance 0.5 0.5\"]).hist(column=\"score\")"
   ]
  },
  {
   "cell_type": "code",
   "execution_count": null,
   "id": "f22eef47-619a-4182-aa52-8d46d766dc52",
   "metadata": {},
   "outputs": [],
   "source": [
    "for j in [0,0.5,1]:\n",
    "    for k in [0,0.5,1]:\n",
    "        print(f\"j: {j}, k: {k}\", end=\"\\r\")\n",
    "        pd.DataFrame(df_values[f\"channel relevance {j} {k}\"]).to_pickle(f\"./data/final/user-channel-{j}-{k}.pkl\")\n",
    "        print(\"\")"
   ]
  },
  {
   "cell_type": "code",
   "execution_count": null,
   "id": "34235426-5cc8-4f7c-929c-6e1918ade082",
   "metadata": {},
   "outputs": [],
   "source": [
    "acquaintances.head(1)"
   ]
  },
  {
   "cell_type": "code",
   "execution_count": null,
   "id": "7a5eef42-e88e-458a-9c83-2bc945058f11",
   "metadata": {},
   "outputs": [],
   "source": [
    "df_values = {}\n",
    "\n",
    "for j in [0,0.5,1]:\n",
    "    for k in [0,0.5,1]:\n",
    "        for l in [0,0.5,1]:\n",
    "            df_values[f\"sim score extended {l} {j} {k}\"] = []\n",
    "\n",
    "for i, row in acquaintances.iterrows():\n",
    "    print(f\"Now processing row {i}\", end=\"\\r\")\n",
    "\n",
    "    if len(row.acquaintances) == 0:\n",
    "        continue\n",
    "\n",
    "    acquaintances_list = row.acquaintances[0]\n",
    "\n",
    "    for a, acquaintance in enumerate(row.acquaintances):\n",
    "        for j in [0,0.5,1]:\n",
    "            for k in [0,0.5,1]:\n",
    "                for l in [0,0.5,1]:\n",
    "                    df_values[f\"sim score extended {l} {j} {k}\"].append(\n",
    "                        {\n",
    "                            \"userid\": row.userid,\n",
    "                            \"neighbourid\": user_ids_dict[acquaintance],\n",
    "                            \"score\": row[f\"sim score extended {l} {j} {k}\"][a],\n",
    "                        }\n",
    "                    )"
   ]
  },
  {
   "cell_type": "code",
   "execution_count": null,
   "id": "c5f91dcc-0fb4-438f-8da1-7b885e9b6580",
   "metadata": {},
   "outputs": [],
   "source": [
    "for j in [0,0.5,1]:\n",
    "    for k in [0,0.5,1]:\n",
    "        for l in [0,0.5,1]:\n",
    "            print(f\"j: {j}, k: {k}, l: {l}\")\n",
    "            pd.DataFrame(df_values[f\"sim score extended {l} {j} {k}\"]).to_pickle(f'./data/final/user-user-{j}-{k}-{l}.pkl')"
   ]
  },
  {
   "cell_type": "markdown",
   "id": "221cdc29",
   "metadata": {},
   "source": [
    "### Fancy channel relevance (ego - neighbors - channels)"
   ]
  },
  {
   "cell_type": "code",
   "execution_count": null,
   "id": "ba1517e4",
   "metadata": {},
   "outputs": [],
   "source": [
    "user_user_conf = [\n",
    "    {\"j\": 0, \"k\": 1, \"l\": 0.5},\n",
    "    {\"j\": 0, \"k\": 1, \"l\": 0},\n",
    "    {\"j\": 0.5, \"k\": 1, \"l\": 1},\n",
    "    {\"j\": 0, \"k\": 0, \"l\": 0},\n",
    "    {\"j\": 0, \"k\": 0, \"l\": 1}\n",
    "]\n",
    "\n",
    "\n",
    "pd.read_pickle(f\"./data/final/ego-channel-{0}-{1}-with-user-conf-{0}-{1}-{0.5}.pkl\")\n",
    "\n",
    "    "
   ]
  },
  {
   "cell_type": "code",
   "execution_count": null,
   "id": "640f1ea3",
   "metadata": {},
   "outputs": [],
   "source": [
    "userchannel = pd.read_pickle(f\"./data/final/user-channel-{0}-{0}.pkl\")\n",
    "userchannel.head(5)"
   ]
  },
  {
   "cell_type": "code",
   "execution_count": null,
   "id": "443d839a",
   "metadata": {},
   "outputs": [],
   "source": [
    "userchannel[userchannel.userid == \"50f294244cd7b76fbeb44959175a96a5\"]"
   ]
  },
  {
   "cell_type": "code",
   "execution_count": null,
   "id": "9267e622",
   "metadata": {},
   "outputs": [],
   "source": []
  }
 ],
 "metadata": {
  "interpreter": {
   "hash": "949777d72b0d2535278d3dc13498b2535136f6dfe0678499012e853ee9abcab1"
  },
  "kernelspec": {
   "display_name": "Python 3 (ipykernel)",
   "language": "python",
   "name": "python3"
  },
  "language_info": {
   "codemirror_mode": {
    "name": "ipython",
    "version": 3
   },
   "file_extension": ".py",
   "mimetype": "text/x-python",
   "name": "python",
   "nbconvert_exporter": "python",
   "pygments_lexer": "ipython3",
   "version": "3.9.5"
  }
 },
 "nbformat": 4,
 "nbformat_minor": 5
}
