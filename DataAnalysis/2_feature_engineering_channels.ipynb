{
 "cells": [
  {
   "cell_type": "code",
   "execution_count": null,
   "id": "4d13f7e2-2baa-4aad-b178-0cb90fd354aa",
   "metadata": {},
   "outputs": [],
   "source": [
    "import pandas as pd\n",
    "import numpy as np\n",
    "import pprint\n",
    "import json\n",
    "\n",
    "from collections import Counter\n",
    "from math import log\n",
    "\n",
    "import dask\n",
    "import dask.dataframe as dd\n",
    "from dask.multiprocessing import get\n",
    "\n",
    "pp = pprint.PrettyPrinter(indent=4)"
   ]
  },
  {
   "cell_type": "code",
   "execution_count": null,
   "id": "8023fca0-2cf4-4648-83c8-c56ec3a1dd04",
   "metadata": {},
   "outputs": [],
   "source": [
    "people = pd.read_pickle(\"./data/intermediate/people.pkl\")\n",
    "teams = pd.read_pickle(\"./data/intermediate/teams.pkl\")\n",
    "channels = pd.read_pickle(\"./data/intermediate/channels_enriched.pkl\")"
   ]
  },
  {
   "cell_type": "markdown",
   "id": "eb40bde5-f7a0-4b39-8918-597b7587ac31",
   "metadata": {},
   "source": [
    "## Channel relevance score\n",
    "Calculate how relevant are certain channels for users\n",
    "The idea would be to go from user -> neighbour -> channel"
   ]
  },
  {
   "cell_type": "code",
   "execution_count": null,
   "id": "ef090b47-49ba-4bd0-8d94-ee9bbf013a81",
   "metadata": {},
   "outputs": [],
   "source": [
    "channels.head(3)"
   ]
  },
  {
   "cell_type": "code",
   "execution_count": null,
   "id": "c5d6f3e8-c099-4a16-a328-32edbc856d4a",
   "metadata": {
    "tags": []
   },
   "outputs": [],
   "source": [
    "people.head(3)"
   ]
  },
  {
   "cell_type": "code",
   "execution_count": null,
   "id": "9260a398-292d-47d0-a5cb-f5dd3ae7be3c",
   "metadata": {},
   "outputs": [],
   "source": [
    "teams.head(3)"
   ]
  },
  {
   "cell_type": "code",
   "execution_count": null,
   "id": "0687bf22-20a5-48bc-8d96-1bb51f998ea9",
   "metadata": {},
   "outputs": [],
   "source": [
    "teams[\"channel count\"] = teams.apply(lambda row: len(row.channels), axis=1)"
   ]
  },
  {
   "cell_type": "code",
   "execution_count": null,
   "id": "8809d0df-42c2-49dc-a3d9-31ddb1624f99",
   "metadata": {},
   "outputs": [],
   "source": [
    "teams.to_pickle(\"./data/intermediate/teams_enriched.pkl\")"
   ]
  },
  {
   "cell_type": "markdown",
   "id": "cb87d32a-8347-4480-8e9e-0df815c4f0a7",
   "metadata": {},
   "source": [
    "## Team membership factor / Team boost score \n",
    "$NT_{t,u}$ is the number of team $t$ channels that user $u$ belongs to  \n",
    "$NT_t$ is the number of all channels in team $t$   \n",
    "the largest number of channels in a team   \n",
    "\n",
    "$TM_{u,c} = \\dfrac{1}{2} * \\biggl(\\dfrac{NT_{t,u}}{NT_t} + \\dfrac{NT_t}{max(NT)}\\biggr)$"
   ]
  },
  {
   "cell_type": "code",
   "execution_count": null,
   "id": "8afaceca-f9fa-41cf-b6da-4734bd2fead9",
   "metadata": {},
   "outputs": [],
   "source": [
    "channel_team_dict = {}\n",
    "\n",
    "for i, team in teams.iterrows():\n",
    "    channel_team_dict = channel_team_dict | {channel: team[\"label\"] for channel in team[\"channels\"]}"
   ]
  },
  {
   "cell_type": "code",
   "execution_count": null,
   "id": "af73ce4c-121c-4e41-a69a-1e5cfa04c2d7",
   "metadata": {},
   "outputs": [],
   "source": [
    "# Get max channel member count\n",
    "max_channel_members = max(channels[\"member count\"].to_list())"
   ]
  },
  {
   "cell_type": "code",
   "execution_count": null,
   "id": "846ac9fc-a80e-4d61-b422-d902736e9184",
   "metadata": {},
   "outputs": [],
   "source": [
    "max_team_channels = max(teams[\"channel count\"].to_list())"
   ]
  },
  {
   "cell_type": "code",
   "execution_count": null,
   "id": "5e1b7390-e83a-4311-bdbf-e887bcc30de6",
   "metadata": {},
   "outputs": [],
   "source": [
    "member_count_per_channel = pd.Series(\n",
    "    channels[\"member count\"].values, index=channels.label\n",
    ").to_dict()"
   ]
  },
  {
   "cell_type": "code",
   "execution_count": null,
   "id": "94160254-8554-4cbd-8112-8c7dcd265990",
   "metadata": {},
   "outputs": [],
   "source": [
    "def get_team_boost(row):\n",
    "    print(row[\"userid\"], end=\"\\r\")\n",
    "\n",
    "    user_channels = row[\"channels\"]\n",
    "\n",
    "    user_teams = [\n",
    "        channel_team_dict[channel] if channel in channel_team_dict else \"no team\"\n",
    "        for channel in user_channels\n",
    "    ]\n",
    "    # each team should have a score from 0 to 1 depending on the percentage of all channels a user belongs to from that team\n",
    "    team_boost = {\n",
    "        team_freq[0]: round(\n",
    "            team_freq[1] / teams[teams[\"label\"] == team_freq[0]][\"channel count\"].values[0], 3\n",
    "        )\n",
    "        for team_freq in Counter(user_teams).most_common()\n",
    "        if team_freq[0] in teams[\"label\"].unique()\n",
    "    }\n",
    "\n",
    "    row[\"team boost\"] = team_boost\n",
    "\n",
    "    row[\"team boost per channel\"] = [\n",
    "        round(\n",
    "            (\n",
    "                team_boost[channel_team_dict[channel]]\n",
    "                + teams[teams[\"label\"] == channel_team_dict[channel]][\"channel count\"].values[0]\n",
    "                / max_team_channels\n",
    "            )\n",
    "            / 2,\n",
    "            3,\n",
    "        )\n",
    "        if channel in channel_team_dict\n",
    "        and channel_team_dict[channel] in team_boost\n",
    "        and member_count_per_channel[channel] > 1\n",
    "        else 0\n",
    "        for channel in user_channels\n",
    "    ]\n",
    "\n",
    "    return row\n",
    "\n",
    "\n",
    "people = (\n",
    "    dd.from_pandas(people, npartitions=24)\n",
    "    .map_partitions(lambda df: df.apply((lambda row: get_team_boost(row)), axis=1))\n",
    "    .compute(scheduler=\"processes\")\n",
    ")"
   ]
  },
  {
   "cell_type": "code",
   "execution_count": null,
   "id": "950c02ab-e4af-413d-b10f-9968a9c4dd7c",
   "metadata": {},
   "outputs": [],
   "source": [
    "people.head(3)"
   ]
  },
  {
   "cell_type": "code",
   "execution_count": null,
   "id": "38a28eda-b872-4a13-b652-a25f8f80c86c",
   "metadata": {},
   "outputs": [],
   "source": [
    "max_boost = 0\n",
    "\n",
    "for i, person in people.iterrows():\n",
    "    for boost in person[\"team boost per channel\"]:\n",
    "        if boost > max_boost:\n",
    "            max_boost = boost\n",
    "\n",
    "print(f\"Max team boost per channel is {max_boost}\")"
   ]
  },
  {
   "cell_type": "code",
   "execution_count": null,
   "id": "33ebbab6-e891-4402-b847-7c7b8286d12c",
   "metadata": {},
   "outputs": [],
   "source": [
    "# Calculate mention count per channel and popular user per channel\n",
    "channel_mentions = {}\n",
    "\n",
    "for i, user in people.iterrows():\n",
    "    print(f\"user {i}\", end=\"\\r\")\n",
    "\n",
    "    user_channels = user[\"channels\"]\n",
    "\n",
    "    if len(user_channels) == 0:\n",
    "        continue\n",
    "\n",
    "    channel_mention_count = [mention for mention in user[\"channel mention counts\"]]\n",
    "\n",
    "    for channel in [entry for entry in zip(user_channels, channel_mention_count) if entry[1] > 0]:\n",
    "        if channel[0] in channel_mentions:\n",
    "            channel_mentions[channel[0]][\"mention_count\"] += channel[1]\n",
    "            channel_mentions[channel[0]][\"popular_users\"] += 1\n",
    "        else:\n",
    "            channel_mentions[channel[0]] = {\"mention_count\": channel[1], \"popular_users\": 1}"
   ]
  },
  {
   "cell_type": "code",
   "execution_count": null,
   "id": "2822bada-cbc4-468e-b491-feddce7688e2",
   "metadata": {},
   "outputs": [],
   "source": [
    "# Calculate message count per channel and active user per channel\n",
    "channel_messages = {}\n",
    "\n",
    "for i, user in people.iterrows():\n",
    "    print(f\"user {i}\", end=\"\\r\")\n",
    "\n",
    "    user_channels = user[\"channels\"]\n",
    "\n",
    "    if len(user_channels) == 0:\n",
    "        continue\n",
    "\n",
    "    channel_message_count = [message for message in user[\"channel message counts\"]]\n",
    "\n",
    "    for channel in [entry for entry in zip(user_channels, channel_message_count) if entry[1] > 0]:\n",
    "        if channel[0] in channel_messages:\n",
    "            channel_messages[channel[0]][\"message_count\"] += channel[1]\n",
    "            channel_messages[channel[0]][\"active_users\"] += 1\n",
    "        else:\n",
    "            channel_messages[channel[0]] = {\"message_count\": channel[1], \"active_users\": 1}"
   ]
  },
  {
   "cell_type": "code",
   "execution_count": null,
   "id": "33209901-b14f-4c13-83be-9031eb171276",
   "metadata": {},
   "outputs": [],
   "source": [
    "def enrich_channels(row):\n",
    "    row[\"popular members\"] = 0\n",
    "    row[\"mention count\"] = 0\n",
    "    row[\"calc message count\"] = 0\n",
    "    row[\"calc active user count\"] = 0\n",
    "\n",
    "    if row.label in channel_mentions:\n",
    "        row[\"popular members\"] = channel_mentions[row[\"label\"]][\"popular_users\"]\n",
    "        row[\"mention count\"] = channel_mentions[row[\"label\"]][\"mention_count\"]\n",
    "\n",
    "    if row.label in channel_messages:\n",
    "        row[\"calc message count\"] = channel_messages[row[\"label\"]][\"message_count\"]\n",
    "        row[\"calc active user count\"] = channel_messages[row[\"label\"]][\"active_users\"]\n",
    "\n",
    "    return row \n",
    "\n",
    "\n",
    "channels = (\n",
    "    dd.from_pandas(channels, npartitions=24)\n",
    "    .map_partitions(lambda df: df.apply((lambda row: enrich_channels(row)), axis=1))\n",
    "    .compute(scheduler=\"processes\")\n",
    ")"
   ]
  },
  {
   "cell_type": "code",
   "execution_count": null,
   "id": "d15842bb-1a1c-4003-badf-f90eb4416109",
   "metadata": {},
   "outputs": [],
   "source": [
    "channels.to_pickle(\"./data/intermediate/channels_enriched_1.6.2022.pkl\")"
   ]
  },
  {
   "cell_type": "markdown",
   "id": "46e7c7dd-76cb-42ea-ba3e-035f3adf313a",
   "metadata": {
    "tags": []
   },
   "source": [
    "## Mention factor / Mention boost\n",
    "\n",
    "$NMT_{u,c}$ is the number of mentions $u$ received in $c$  \n",
    "$NMT_c$ is the number of all mentions in $c$  \n",
    "$P_c$ is the number of users that received at least one mention in $c$  \n",
    "$S_c$ is the number of all users in $c$  \n",
    "\n",
    "$MT_{u,c} = \\dfrac{1}{2} * \\biggl(\\dfrac{NMT_{u,c}}{NMT_{c}} + 1 - \\dfrac{P_{c}}{S_{c}}\\biggl)$"
   ]
  },
  {
   "cell_type": "code",
   "execution_count": null,
   "id": "7e978aa7-6fa3-4c87-a7f9-9f5c3e5a74d2",
   "metadata": {},
   "outputs": [],
   "source": [
    "mentions_per_channel = pd.Series(channels[\"mention count\"].values, index=channels.label).to_dict()"
   ]
  },
  {
   "cell_type": "code",
   "execution_count": null,
   "id": "c3ccf509-a206-42fc-baab-6269b5e880cd",
   "metadata": {},
   "outputs": [],
   "source": [
    "mentioned_users_per_channel = pd.Series(\n",
    "    channels[\"popular members\"].values, index=channels.label\n",
    ").to_dict()"
   ]
  },
  {
   "cell_type": "code",
   "execution_count": null,
   "id": "199cc310-ac1a-4748-bd55-fcbe873538ca",
   "metadata": {},
   "outputs": [],
   "source": [
    "user_per_channel = pd.Series(channels[\"member count\"].values, index=channels.label).to_dict()"
   ]
  },
  {
   "cell_type": "code",
   "execution_count": null,
   "id": "63644d30-5aa2-45c2-bf10-cab110331deb",
   "metadata": {
    "tags": []
   },
   "outputs": [],
   "source": [
    "def get_mention_boost(row):\n",
    "\n",
    "    user_channels = row[\"channels\"]\n",
    "    user_mentions_per_channel = np.array(row[\"channel mention counts\"], dtype=float)\n",
    "\n",
    "    all_mentions_per_channel = np.array(\n",
    "        [mentions_per_channel[channel] for channel in user_channels], dtype=float\n",
    "    )\n",
    "    popular_users_per_channel = np.array(\n",
    "        [mentioned_users_per_channel[channel] for channel in user_channels], dtype=float\n",
    "    )\n",
    "    users_per_channel = np.array(\n",
    "        [user_per_channel[channel] for channel in user_channels], dtype=float\n",
    "    )\n",
    "\n",
    "    channel_mention_factor = (\n",
    "        (\n",
    "            np.divide(\n",
    "                user_mentions_per_channel,\n",
    "                all_mentions_per_channel,\n",
    "                out=np.zeros_like(user_mentions_per_channel),\n",
    "                where=all_mentions_per_channel != 0,\n",
    "            )\n",
    "        )\n",
    "        + 1 - (\n",
    "            np.divide(\n",
    "                popular_users_per_channel,\n",
    "                users_per_channel,\n",
    "                out=np.zeros_like(popular_users_per_channel),\n",
    "                where=users_per_channel != 0,\n",
    "            )\n",
    "        )\n",
    "    ) / 2\n",
    "\n",
    "    # channel_mention_factor[channel_mention_factor > 1] = 1\n",
    "\n",
    "    row[\"channel mention factor\"] = np.round(channel_mention_factor, 3).tolist()\n",
    "\n",
    "    return row\n",
    "\n",
    "\n",
    "people = people.apply(get_mention_boost, axis=1)"
   ]
  },
  {
   "cell_type": "code",
   "execution_count": null,
   "id": "80d24c98-97ca-4055-b3eb-9ec62994302f",
   "metadata": {},
   "outputs": [],
   "source": [
    "people.head(3)"
   ]
  },
  {
   "cell_type": "code",
   "execution_count": null,
   "id": "f9c0ed66-9ae1-4627-96bf-ca3c0524b73c",
   "metadata": {},
   "outputs": [],
   "source": [
    "channels.head(3)"
   ]
  },
  {
   "cell_type": "markdown",
   "id": "adc41e4b-4457-443b-aa46-3d2f47c9417b",
   "metadata": {},
   "source": [
    "## Message factor / Message boost\n",
    "$NM_{u,c}$ is the number of messages $u$ posted in $c$  \n",
    "$NM_c$ is the number of all messages in $c$  \n",
    "$A_c$ is the number of users that wrote at least one message in $c$  \n",
    "$S_c$ is the number of all users in $c$\n",
    "\n",
    "$M_{u,c} = \\dfrac{1}{2} * \\biggl(\\dfrac{NM_{u,c}}{NM_{c}} + 1 - \\dfrac{A_{c}}{S_{c}}\\biggr)$"
   ]
  },
  {
   "cell_type": "code",
   "execution_count": null,
   "id": "97faed7d-d933-41f4-a7e7-bc3e7ca76b8f",
   "metadata": {},
   "outputs": [],
   "source": [
    "messages_per_channel = pd.Series(\n",
    "    channels[\"calc message count\"].values, index=channels.label\n",
    ").to_dict()"
   ]
  },
  {
   "cell_type": "code",
   "execution_count": null,
   "id": "42b954c7-a3bd-45fe-b831-b8fc024e10ee",
   "metadata": {},
   "outputs": [],
   "source": [
    "active_users_per_channel = pd.Series(\n",
    "    channels[\"calc active user count\"].values, index=channels.label\n",
    ").to_dict()"
   ]
  },
  {
   "cell_type": "code",
   "execution_count": null,
   "id": "cd15412e-1877-41ac-97c5-a8506b360053",
   "metadata": {
    "tags": []
   },
   "outputs": [],
   "source": [
    "def get_message_boost(row):\n",
    "\n",
    "    user_channels = row[\"channels\"]\n",
    "    user_messages_per_channel = np.array(row[\"channel message counts\"], dtype=float)\n",
    "\n",
    "    all_messages_per_channel = np.array(\n",
    "        [messages_per_channel[channel] for channel in user_channels], dtype=float\n",
    "    )\n",
    "\n",
    "    active_users_per_user_channel = np.array(\n",
    "        [active_users_per_channel[channel] for channel in user_channels], dtype=float\n",
    "    )\n",
    "\n",
    "    users_per_channel = np.array(\n",
    "        [user_per_channel[channel] for channel in user_channels], dtype=float\n",
    "    )\n",
    "\n",
    "    channel_message_factor = (\n",
    "        np.divide(\n",
    "            user_messages_per_channel,\n",
    "            all_messages_per_channel,\n",
    "            out=np.zeros_like(user_messages_per_channel),\n",
    "            where=all_messages_per_channel != 0,\n",
    "        )\n",
    "        + 1 - np.divide(\n",
    "            active_users_per_user_channel,\n",
    "            users_per_channel,\n",
    "            out=np.zeros_like(active_users_per_user_channel),\n",
    "            where=users_per_channel != 0,\n",
    "        )\n",
    "    ) / 2\n",
    "\n",
    "    # channel_message_factor[channel_message_factor > 1] = 1\n",
    "\n",
    "    row[\"channel message factor\"] = np.round(channel_message_factor, 3).tolist()\n",
    "    return row\n",
    "\n",
    "\n",
    "people = people.apply(get_message_boost, axis=1)"
   ]
  },
  {
   "cell_type": "code",
   "execution_count": null,
   "id": "56a4cc53-78ec-4cf8-bfe2-5dd19a589e5d",
   "metadata": {},
   "outputs": [],
   "source": [
    "factors = []\n",
    "\n",
    "for i, row in people.iterrows():\n",
    "    for factor in row[\"channel message factor\"]:\n",
    "        factors.append(factor)\n",
    "\n",
    "max(factors)"
   ]
  },
  {
   "cell_type": "code",
   "execution_count": null,
   "id": "76f3031e-a413-40f8-9670-32e6839dd34a",
   "metadata": {},
   "outputs": [],
   "source": [
    "people.head(3)"
   ]
  },
  {
   "cell_type": "code",
   "execution_count": null,
   "id": "6dbad133-7bf9-4871-a5cd-c3dbe7074e9f",
   "metadata": {},
   "outputs": [],
   "source": [
    "people.to_pickle(\"./data/intermediate/people_enriched_1.6.2022.pkl\")"
   ]
  },
  {
   "cell_type": "markdown",
   "id": "c02bec14-96e6-431e-9d22-ef0a6e446647",
   "metadata": {},
   "source": [
    "## Channel relevance score\n",
    "\n",
    "$C_{u,c} = \\alpha * TM_{u,c} + (1-\\alpha) * (\\beta * M_{u,c} + (1-\\beta) * MT_{u,c})$"
   ]
  },
  {
   "cell_type": "code",
   "execution_count": null,
   "id": "75d1f602-7aea-4212-8f73-09f6e3ff3064",
   "metadata": {},
   "outputs": [],
   "source": [
    "def calculate_cr(row, j, k):\n",
    "    return np.round(\n",
    "        j * np.array(row[\"team boost per channel\"])\n",
    "        + (1 - j)\n",
    "        * (\n",
    "            k * np.array(row[\"channel mention factor\"])\n",
    "            + (1 - k) * np.array(row[\"channel message factor\"])\n",
    "        ),\n",
    "        3,\n",
    "    ).tolist()"
   ]
  },
  {
   "cell_type": "code",
   "execution_count": null,
   "id": "dd14f91d-1ece-41b9-ab6a-edb8ee286584",
   "metadata": {},
   "outputs": [],
   "source": [
    "def combine_mention_message(row):\n",
    "    \n",
    "    for j in [0, 0.25, 0.5, 0.75, 1]:\n",
    "        for k in [0, 0.25, 0.5, 0.75, 1]:\n",
    "            row[f\"channel relevance {j} {k}\"] = calculate_cr(row, j, k)\n",
    "    return row\n",
    "\n",
    "\n",
    "people = people.apply(combine_mention_message, axis=1)"
   ]
  },
  {
   "cell_type": "code",
   "execution_count": null,
   "id": "27e1616c-2d96-4d26-8e58-2a198d388125",
   "metadata": {},
   "outputs": [],
   "source": [
    "people.head(3)"
   ]
  },
  {
   "cell_type": "markdown",
   "id": "f5b2a0f5-b3bf-450d-99d9-b5d43a4404cb",
   "metadata": {},
   "source": [
    "## Normalise all values"
   ]
  },
  {
   "cell_type": "code",
   "execution_count": null,
   "id": "4ad5c221-3f06-4d3c-acc4-d2d99da6e2fa",
   "metadata": {},
   "outputs": [],
   "source": [
    "max_values = {}\n",
    "\n",
    "for j in [0, 0.25, 0.5, 0.75, 1]:\n",
    "    for k in [0, 0.25, 0.5, 0.75, 1]:\n",
    "        max_values[f\"channel relevance {j} {k}\"] = 0"
   ]
  },
  {
   "cell_type": "code",
   "execution_count": null,
   "id": "0ba5ce14-9663-4932-9d28-4b4e285b3b24",
   "metadata": {},
   "outputs": [],
   "source": [
    "for i, person in people.iterrows():\n",
    "    for j in [0, 0.25, 0.5, 0.75, 1]:\n",
    "        for k in [0, 0.25, 0.5, 0.75, 1]:\n",
    "            for value in person[f\"channel relevance {j} {k}\"]:\n",
    "                if value > max_values[f\"channel relevance {j} {k}\"]:\n",
    "                    max_values[f\"channel relevance {j} {k}\"] = value"
   ]
  },
  {
   "cell_type": "code",
   "execution_count": null,
   "id": "ac7e3739-4285-4d5b-a171-2d626d7cf70d",
   "metadata": {},
   "outputs": [],
   "source": [
    "for j in [0, 0.25, 0.5, 0.75, 1]:\n",
    "    for k in [0, 0.25, 0.5, 0.75, 1]:\n",
    "        print(max_values[f\"channel relevance {j} {k}\"])"
   ]
  },
  {
   "cell_type": "code",
   "execution_count": null,
   "id": "67c75197-e6be-4aff-98fd-cbca8a2ef626",
   "metadata": {},
   "outputs": [],
   "source": [
    "people.head(3)"
   ]
  },
  {
   "cell_type": "code",
   "execution_count": null,
   "id": "9f0810e6-d2ea-415a-b5a5-c298dbc3cd79",
   "metadata": {},
   "outputs": [],
   "source": [
    "people.to_pickle(\"./data/final/people.pkl\")"
   ]
  },
  {
   "cell_type": "code",
   "execution_count": null,
   "id": "acee89d4-649d-4ea1-be00-93c3dd64c689",
   "metadata": {},
   "outputs": [],
   "source": [
    "people.columns.to_list()"
   ]
  },
  {
   "cell_type": "code",
   "execution_count": null,
   "id": "16100ec1-e4c3-4562-8cbe-f6a5463d75f0",
   "metadata": {},
   "outputs": [],
   "source": [
    "factor_df = []\n",
    "\n",
    "for i, row in people.iterrows():\n",
    "    for factor in row[f\"channel relevance 1 1\"]:\n",
    "        factor_df.append({\"user\": row.userid, \"score\": factor})\n",
    "\n",
    "pd.DataFrame(factor_df).hist(column=\"score\")"
   ]
  },
  {
   "cell_type": "code",
   "execution_count": null,
   "id": "23527f41-ce06-4998-9e68-de6b9bba7d4d",
   "metadata": {},
   "outputs": [],
   "source": []
  }
 ],
 "metadata": {
  "interpreter": {
   "hash": "949777d72b0d2535278d3dc13498b2535136f6dfe0678499012e853ee9abcab1"
  },
  "kernelspec": {
   "display_name": "Python 3 (ipykernel)",
   "language": "python",
   "name": "python3"
  },
  "language_info": {
   "codemirror_mode": {
    "name": "ipython",
    "version": 3
   },
   "file_extension": ".py",
   "mimetype": "text/x-python",
   "name": "python",
   "nbconvert_exporter": "python",
   "pygments_lexer": "ipython3",
   "version": "3.9.5"
  }
 },
 "nbformat": 4,
 "nbformat_minor": 5
}
