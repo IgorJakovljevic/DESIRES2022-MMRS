{
 "cells": [
  {
   "cell_type": "markdown",
   "id": "b3d7d90f-2bd5-4fc0-8fdf-4d03a62a1d3b",
   "metadata": {},
   "source": [
    "## Read First\n",
    "🪧 This notebook is the same as `2_feature_engineering_users`but it calculates the acquaintance scores by only considering channels that have more than 5 and less than 75% of the max users."
   ]
  },
  {
   "cell_type": "code",
   "execution_count": null,
   "id": "faf2983d-e2c9-4e97-b408-4c4e05ec1bf0",
   "metadata": {},
   "outputs": [],
   "source": [
    "import pandas as pd\n",
    "import numpy as np\n",
    "import plotly.express as px\n",
    "\n",
    "import pprint\n",
    "import json\n",
    "\n",
    "import dask\n",
    "import dask.dataframe as dd\n",
    "from dask.multiprocessing import get\n",
    "from collections import Counter\n",
    "\n",
    "import matplotlib.pyplot as plt\n",
    "\n",
    "import networkx as nx\n",
    "\n",
    "pp = pprint.PrettyPrinter(indent=4)"
   ]
  },
  {
   "cell_type": "code",
   "execution_count": null,
   "id": "5c8c14f7-4833-4c54-96b1-82e9cd8393e6",
   "metadata": {},
   "outputs": [],
   "source": [
    "people = pd.read_pickle(\"./data/final/people.pkl\")\n",
    "teams = pd.read_pickle(\"./data/intermediate/teams.pkl\")\n",
    "channels = pd.read_pickle(\"./data/intermediate/channels_enriched_1.6.2022.pkl\")"
   ]
  },
  {
   "cell_type": "code",
   "execution_count": null,
   "id": "62c59f27-5538-4bc2-9d9a-d436a7598b7a",
   "metadata": {
    "tags": []
   },
   "outputs": [],
   "source": [
    "people.head(3)"
   ]
  },
  {
   "cell_type": "code",
   "execution_count": null,
   "id": "150b6b1d-8621-49e4-b87a-785ca69c6c01",
   "metadata": {
    "tags": []
   },
   "outputs": [],
   "source": [
    "teams.head(3)"
   ]
  },
  {
   "cell_type": "code",
   "execution_count": null,
   "id": "d0684225-e538-437c-9d6d-dffc380cef58",
   "metadata": {
    "tags": []
   },
   "outputs": [],
   "source": [
    "channels.head(3)"
   ]
  },
  {
   "cell_type": "markdown",
   "id": "558649e3-51fe-4501-aad0-3f231f0b4f27",
   "metadata": {},
   "source": [
    "## Acquaintance analysis "
   ]
  },
  {
   "cell_type": "markdown",
   "id": "278d4b8c-c9d8-4e1b-a796-be6dd39a3dd7",
   "metadata": {},
   "source": [
    "## User channel visiblity\n",
    "$S_c$ is the number of users in channel $c$ \n",
    "\n",
    "$V_{u_n, c} = \\gamma * 2 \\div S_c + (1-\\gamma) * (\\eta * M_{c,u_n} + (1-\\eta) * MT_{c,u_n})$"
   ]
  },
  {
   "cell_type": "markdown",
   "id": "1de3bcef-81af-4538-bdd4-24d0dbd9b3a9",
   "metadata": {},
   "source": [
    "## Likelihood of ego knowing its neighbours\n",
    "\n",
    "likelihood of $u_e$ knowing $u_n$.\n",
    "\n",
    "$B_{u_n, u_e}$ indicates if $u_n$ and $u_e$ work in the same building  \n",
    "$O_{u_n, u_e}$ indicates if $u_n$ and $u_e$ belong to the same organisational unit  \n",
    "$BS_{u_e}$ is the size of building $u_e$ belongs to  \n",
    "$OS_{u_e}$ is the size of the organisationa unit $u_e$ belongs to  \n",
    "$C_{u_n,u_e}$ is the set of channels shared between $u_e$ and $u_n$  \n",
    "$N_{u_n,u_e}$ is the number of channels shared between $u_e$ and $u_n$. \n",
    "$N_{u_e}$ is the number of channels $u_e$ belongs to  \n",
    "\n",
    "$V_{u_e, u_n} = \\dfrac{1}{2} * \\biggl(\\epsilon * \\dfrac{\\sum_{c \\in C_{u_n,u_e}} V_{u_n, c}}{N_{u_n,u_e}} + (1-\\epsilon) * \\dfrac{N_{u_n,u_e}}{N_{u_e}} + \\dfrac{O_{u_n,u_e}}{OS_{u_e}} + \\dfrac{B_{u_n,u_e}}{BS_{u_e}}\\biggr)$"
   ]
  },
  {
   "cell_type": "code",
   "execution_count": null,
   "id": "7bf3cf0b-e04f-4cb6-a971-b16e78b6f842",
   "metadata": {},
   "outputs": [],
   "source": [
    "user_channel_dict = {}\n",
    "\n",
    "for i, person in people.iterrows():\n",
    "    user_channel_dict[person[\"userid\"]] = {}\n",
    "\n",
    "    message_count_list = [message_count for message_count in person[\"channel message counts\"]]\n",
    "\n",
    "    for entry in zip(person[\"channels\"], message_count_list):\n",
    "        user_channel_dict[person[\"userid\"]][entry[0]] = entry[1]"
   ]
  },
  {
   "cell_type": "code",
   "execution_count": null,
   "id": "8f61e754-129b-4a73-b303-1569df4a0152",
   "metadata": {},
   "outputs": [],
   "source": [
    "messages_per_channel = pd.Series(\n",
    "    channels[\"calc message count\"].values, index=channels.label\n",
    ").to_dict()\n",
    "\n",
    "active_members_per_channel = pd.Series(\n",
    "    channels[\"active members\"].values, index=channels.label\n",
    ").to_dict()\n",
    "\n",
    "channel_members = pd.Series(channels[\"channel members\"].values, index=channels.label).to_dict()\n",
    "\n",
    "channel_member_counts = pd.Series(channels[\"member count\"].values, index=channels.label).to_dict()"
   ]
  },
  {
   "cell_type": "code",
   "execution_count": null,
   "id": "ac726d20-8aa6-48a7-b961-be0c27dc905e",
   "metadata": {},
   "outputs": [],
   "source": [
    "mention_factors = {}\n",
    "message_factors = {}\n",
    "\n",
    "for i, row in people.iterrows():\n",
    "    mention_factors[row.userid] = {}\n",
    "    message_factors[row.userid] = {}\n",
    "\n",
    "    for i, channel in enumerate(row.channels):\n",
    "        mention_factors[row.userid][channel] = row[\"channel mention factor\"][i]\n",
    "        message_factors[row.userid][channel] = row[\"channel message factor\"][i]"
   ]
  },
  {
   "cell_type": "code",
   "execution_count": null,
   "id": "cf350bea-7fe7-4d57-834d-212aa124d689",
   "metadata": {},
   "outputs": [],
   "source": [
    "acquaintances = {}\n",
    "\n",
    "for i, ego in people.iterrows():\n",
    "\n",
    "    acquaintances[ego.userid] = {}\n",
    "    print(ego[\"userid\"], end=\"\\r\")\n",
    "\n",
    "    # Iterate over all channels of the ego\n",
    "    for channel in ego[\"channels\"]:\n",
    "        if channel_member_counts[channel] > 500:\n",
    "            continue\n",
    "\n",
    "        channel_member_count = channel_member_counts[channel]\n",
    "\n",
    "        channel_messages = 0\n",
    "        active_channel_members = 0\n",
    "\n",
    "        if channels[channels.label == channel].size > 0:\n",
    "            channel_messages = messages_per_channel[channel]\n",
    "            active_channel_members = active_members_per_channel[channel]\n",
    "        acquaintance_list = channel_members[channel].copy()\n",
    "        acquaintance_list.remove(ego.userid)\n",
    "\n",
    "        # Iterate over neighbours\n",
    "        for acquaintance in acquaintance_list:\n",
    "            if acquaintance not in acquaintances[ego.userid]:\n",
    "                acquaintances[ego.userid][acquaintance] = {\"channels_shared\": 0}\n",
    "\n",
    "                for k in [0, 0.5, 1]:\n",
    "                    for j in [0, 0.5, 1]:\n",
    "                        acquaintances[ego.userid][acquaintance][f\"score {k} {j}\"] = 0\n",
    "\n",
    "            for k in [0, 0.5, 1]:\n",
    "                for j in [0, 0.5, 1]:\n",
    "                    acquaintances[ego.userid][acquaintance][\n",
    "                        f\"score {k} {j}\"\n",
    "                    ] = j * 2 / channel_member_count + (1 - j) * (\n",
    "                        k * mention_factors[acquaintance][channel]\n",
    "                        + (1 - k) * message_factors[acquaintance][channel]\n",
    "                    )\n",
    "\n",
    "            acquaintances[ego.userid][acquaintance][\"channels_shared\"] += 1\n",
    "\n",
    "\n",
    "print(f\"There are {len(acquaintances.keys())} acquaintances\", end=\"\\r\")"
   ]
  },
  {
   "cell_type": "code",
   "execution_count": null,
   "id": "a36dcbf2-f111-4a1c-aaf1-442a4187315d",
   "metadata": {},
   "outputs": [],
   "source": [
    "list(acquaintances[\"user_0\"].keys())[0]"
   ]
  },
  {
   "cell_type": "code",
   "execution_count": null,
   "id": "5248db4d-5268-4935-9529-b4666a98f37e",
   "metadata": {},
   "outputs": [],
   "source": [
    "\"user_0\" in list(acquaintances[\"user_52\"].keys())"
   ]
  },
  {
   "cell_type": "code",
   "execution_count": null,
   "id": "31a30631-e344-4088-abaa-d604e448ae10",
   "metadata": {},
   "outputs": [],
   "source": [
    "# Calculate user to acquaintances channel similarity\n",
    "for user in acquaintances.keys():\n",
    "    print(user, end=\"\\r\")\n",
    "    user_channel_count = len(people[people[\"userid\"] == user].channels.values)\n",
    "    for acquaintance in acquaintances[user]:\n",
    "        acquaintances[user][acquaintance][\"channel similarity score\"] = (\n",
    "            acquaintances[user][acquaintance][\"channels_shared\"] / user_channel_count\n",
    "        )\n",
    "\n",
    "print(f\"Done calculating CSS for all.\", end=\"\\r\")"
   ]
  },
  {
   "cell_type": "code",
   "execution_count": null,
   "id": "39ffd093-8a13-4a33-be9d-085967d27740",
   "metadata": {},
   "outputs": [],
   "source": [
    "for user in acquaintances.keys():\n",
    "    print(user, end=\"\\r\")\n",
    "    for acquaintance in acquaintances[user]:\n",
    "        for k in [0, 0.5, 1]:\n",
    "            for j in [0, 0.5, 1]:\n",
    "                for l in [0, 0.5, 1]:\n",
    "                    acquaintances[user][acquaintance][f\"sim score simple {k} {j} {l}\"] = (\n",
    "                        l\n",
    "                        * acquaintances[user][acquaintance][f\"score {k} {j}\"]\n",
    "                        / acquaintances[user][acquaintance][\"channels_shared\"]\n",
    "                        + (1 - l) * acquaintances[user][acquaintance][\"channel similarity score\"]\n",
    "                    )"
   ]
  },
  {
   "cell_type": "code",
   "execution_count": null,
   "id": "34bde202-7e06-4bbe-852f-3d2d55d91bc9",
   "metadata": {},
   "outputs": [],
   "source": [
    "user_buildings = pd.Series(people[\"building\"].values, index=people.userid).to_dict()\n",
    "user_org_units = pd.Series(people[\"organisational unit\"].values, index=people.userid).to_dict()"
   ]
  },
  {
   "cell_type": "code",
   "execution_count": null,
   "id": "398f1365-9a7c-4a49-a51f-044c3f0f5b98",
   "metadata": {},
   "outputs": [],
   "source": [
    "for user in acquaintances.keys():\n",
    "    print(user, end=\"\\r\")\n",
    "    for acquaintance in acquaintances[user]:\n",
    "        acquaintances[user][acquaintance][\"same building\"] = (\n",
    "            1 if user_buildings[user] == user_buildings[acquaintance] else 0\n",
    "        )\n",
    "        acquaintances[user][acquaintance][\"same org unit\"] = (\n",
    "            1 if user_org_units[user] == user_org_units[acquaintance] else 0\n",
    "        )"
   ]
  },
  {
   "cell_type": "code",
   "execution_count": null,
   "id": "b1f07c26-8555-4674-aeff-29daab555154",
   "metadata": {},
   "outputs": [],
   "source": [
    "# Get org and building size\n",
    "for user in acquaintances.keys():\n",
    "    print(user, end=\"\\r\")\n",
    "    acquaintances[user][\"building size\"] = people[people.userid == user][\n",
    "        \"building employee count\"\n",
    "    ].values[0]\n",
    "    acquaintances[user][\"org unit size\"] = people[people.userid == user][\n",
    "        \"organisational unit employee count\"\n",
    "    ].values[0]"
   ]
  },
  {
   "cell_type": "code",
   "execution_count": null,
   "id": "b413f00d-485f-49a0-afed-3c1dacfbb495",
   "metadata": {},
   "outputs": [],
   "source": [
    "for user in acquaintances.keys():\n",
    "    print(user, end=\"\\r\")\n",
    "    for acquaintance in acquaintances[user]:\n",
    "        for k in [0, 0.5, 1]:\n",
    "            for j in [0, 0.5, 1]:\n",
    "                for l in [0, 0.5, 1]:\n",
    "                    if type(acquaintances[user][acquaintance]) is dict:\n",
    "                        building_factor = 0\n",
    "                        if (\n",
    "                            acquaintances[user][acquaintance][\"same building\"] == 1\n",
    "                            and acquaintances[user][\"building size\"] >= 2\n",
    "                        ):\n",
    "                            building_factor = 2 / acquaintances[user][\"building size\"]\n",
    "\n",
    "                        org_unit_factor = 0\n",
    "                        if (\n",
    "                            acquaintances[user][acquaintance][\"same org unit\"] == 1\n",
    "                            and acquaintances[user][\"org unit size\"] >= 2\n",
    "                        ):\n",
    "                            org_unit_factor = 2 / acquaintances[user][\"org unit size\"]\n",
    "\n",
    "                        acquaintances[user][acquaintance][\n",
    "                            f\"sim score extended {k} {j} {l}\"\n",
    "                        ] = 0.5 * acquaintances[user][acquaintance][\n",
    "                            f\"sim score simple {k} {j} {l}\"\n",
    "                        ] + 0.5 * (\n",
    "                            0.5 * building_factor + 0.5 * org_unit_factor\n",
    "                        )"
   ]
  },
  {
   "cell_type": "code",
   "execution_count": null,
   "id": "6a316ff6-27ec-40e5-a41d-4d047f136850",
   "metadata": {},
   "outputs": [],
   "source": [
    "acquaintances_list = []\n",
    "\n",
    "for user in acquaintances.keys():\n",
    "    print(user, end=\"\\r\")\n",
    "\n",
    "    user_acquaintances = [\n",
    "        val\n",
    "        for val in acquaintances[user].keys()\n",
    "        if val != \"building size\" and val != \"org unit size\"\n",
    "    ]\n",
    "\n",
    "    user_dict = {\n",
    "        \"userid\": user,\n",
    "        \"acquaintances\": user_acquaintances,\n",
    "        \"channels shared\": [\n",
    "            acquaintances[user][acquaintance][\"channels_shared\"]\n",
    "            for acquaintance in user_acquaintances\n",
    "        ],\n",
    "    }\n",
    "\n",
    "    for k in [0, 0.5, 1]:\n",
    "        for j in [0, 0.5, 1]:\n",
    "            for l in [0, 0.5, 1]:\n",
    "                user_dict[f\"sim score extended {k} {j} {l}\"] = [\n",
    "                    round(acquaintances[user][acquaintance][f\"sim score extended {k} {j} {l}\"], 3)\n",
    "                    for acquaintance in user_acquaintances\n",
    "                ]\n",
    "\n",
    "    acquaintances_list.append(user_dict)\n",
    "\n"
   ]
  },
  {
   "cell_type": "code",
   "execution_count": null,
   "id": "68965396",
   "metadata": {},
   "outputs": [],
   "source": [
    "acquaintances_df = pd.DataFrame(acquaintances_list)"
   ]
  },
  {
   "cell_type": "code",
   "execution_count": null,
   "id": "547e520e-0eee-4028-9997-ed967b5da57b",
   "metadata": {
    "tags": []
   },
   "outputs": [],
   "source": [
    "acquaintances_df.head(10)"
   ]
  },
  {
   "cell_type": "code",
   "execution_count": null,
   "id": "6d0fef79-d0d4-4919-ae6b-899fbe4a7e62",
   "metadata": {},
   "outputs": [],
   "source": [
    "acquaintances_df.to_pickle(\"./data/final/acquaintances_cf.pkl\")"
   ]
  },
  {
   "cell_type": "code",
   "execution_count": null,
   "id": "16af00ee-650b-47a9-bad6-59adb501850a",
   "metadata": {},
   "outputs": [],
   "source": []
  }
 ],
 "metadata": {
  "interpreter": {
   "hash": "949777d72b0d2535278d3dc13498b2535136f6dfe0678499012e853ee9abcab1"
  },
  "kernelspec": {
   "display_name": "Python 3 (ipykernel)",
   "language": "python",
   "name": "python3"
  },
  "language_info": {
   "codemirror_mode": {
    "name": "ipython",
    "version": 3
   },
   "file_extension": ".py",
   "mimetype": "text/x-python",
   "name": "python",
   "nbconvert_exporter": "python",
   "pygments_lexer": "ipython3",
   "version": "3.9.5"
  }
 },
 "nbformat": 4,
 "nbformat_minor": 5
}
