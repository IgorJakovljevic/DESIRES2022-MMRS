{
 "cells": [
  {
   "cell_type": "code",
   "execution_count": null,
   "id": "ea4f9376-6901-4850-94ba-dc3b79fd1fce",
   "metadata": {},
   "outputs": [],
   "source": [
    "import pandas as pd\n",
    "import networkx as nx\n",
    "from collections import Counter\n",
    "import matplotlib.pyplot as plt\n",
    "import igraph as ig\n",
    "\n",
    "from networkx.algorithms.community import louvain_communities"
   ]
  },
  {
   "cell_type": "markdown",
   "id": "5247e9ba-dd3b-411d-9ae0-2f41a24cdfed",
   "metadata": {},
   "source": [
    "## Calculate bidirectional similarity between users "
   ]
  },
  {
   "cell_type": "code",
   "execution_count": null,
   "id": "feeb9bd1-957b-4924-8137-a6d1bea9dc1e",
   "metadata": {},
   "outputs": [],
   "source": [
    "userchannel = pd.read_pickle(\"./data/final/user-channel-0.5-0.5.pkl\")"
   ]
  },
  {
   "cell_type": "code",
   "execution_count": null,
   "id": "3127c47f-30a5-4efa-a5dd-a41ee7f361b1",
   "metadata": {},
   "outputs": [],
   "source": [
    "userchannel.head(3)"
   ]
  },
  {
   "cell_type": "code",
   "execution_count": null,
   "id": "69eddb62-f1c1-4262-b853-cf772af3f131",
   "metadata": {},
   "outputs": [],
   "source": [
    "di_graph = nx.DiGraph()\n",
    "di_graph.add_nodes_from(userchannel.userid.unique())\n",
    "di_graph.add_nodes_from(userchannel.channelid.unique())"
   ]
  },
  {
   "cell_type": "code",
   "execution_count": null,
   "id": "e893802c-2ee5-47d4-b622-c95507937d18",
   "metadata": {},
   "outputs": [],
   "source": [
    "for row in userchannel.itertuples():\n",
    "    di_graph.add_edge(row.userid, row.channelid, weight=row.score)"
   ]
  },
  {
   "cell_type": "code",
   "execution_count": null,
   "id": "6f76a433-ff2f-458f-8f2a-57905dad0dd1",
   "metadata": {},
   "outputs": [],
   "source": [
    "len(di_graph.edges)"
   ]
  },
  {
   "cell_type": "code",
   "execution_count": null,
   "id": "6d28c25d-9875-42a6-abc0-f31c666c9c4e",
   "metadata": {},
   "outputs": [],
   "source": [
    "print(f\"Density of directed graph: {nx.density(di_graph)}\")"
   ]
  },
  {
   "cell_type": "code",
   "execution_count": null,
   "id": "ae5deabe-ba51-4e40-9e74-f72f855b6ab1",
   "metadata": {},
   "outputs": [],
   "source": [
    "sorted(Counter([len(community) for community in communities]).items())[-10:]"
   ]
  },
  {
   "cell_type": "code",
   "execution_count": null,
   "id": "c97392da-728c-4166-bf9a-00e2f8e86713",
   "metadata": {},
   "outputs": [],
   "source": [
    "print(\n",
    "    f\"The 10 largest connected components are: {[len(c) for c in sorted(nx.connected_components(graph), key=len, reverse=True)][:10]}\"\n",
    ")"
   ]
  },
  {
   "cell_type": "code",
   "execution_count": null,
   "id": "49d33bd6-edf1-4adf-bfc0-99b76af117c1",
   "metadata": {},
   "outputs": [],
   "source": [
    "core2 = nx.k_core(di_graph, k=2)\n",
    "core4 = nx.k_core(di_graph, k=4)\n",
    "core7 = nx.k_core(di_graph, k=7)\n",
    "core10 = nx.k_core(di_graph, k=10)\n",
    "core30 = nx.k_core(di_graph, k=30)\n",
    "\n",
    "core_main = nx.k_core(di_graph)"
   ]
  },
  {
   "cell_type": "markdown",
   "id": "6078b529-e599-4b86-b478-d9fb88b8b22a",
   "metadata": {},
   "source": [
    "## Cluster graphs"
   ]
  },
  {
   "cell_type": "code",
   "execution_count": null,
   "id": "b92db2df-1331-456a-a38e-a41113728cd5",
   "metadata": {},
   "outputs": [],
   "source": [
    "test = pd.read_pickle(\"./data/final/acquaintances_cf.pkl\")"
   ]
  },
  {
   "cell_type": "code",
   "execution_count": null,
   "id": "d88ceeca-84b6-4069-893a-f994b55ae9b2",
   "metadata": {},
   "outputs": [],
   "source": [
    "test.head(5)"
   ]
  },
  {
   "cell_type": "code",
   "execution_count": null,
   "id": "618ca62d-7942-4150-b974-c9563243b3af",
   "metadata": {},
   "outputs": [],
   "source": [
    "useruser = pd.read_pickle(f\"./data/final/user-user-{0.5}-{0.5}-{0.5}.pkl\")"
   ]
  },
  {
   "cell_type": "code",
   "execution_count": null,
   "id": "6761cecb",
   "metadata": {},
   "outputs": [],
   "source": [
    " \"50f294244cd7b76fbeb44959175a96a5\" in useruser[useruser.userid == \"cfcd0ae6e1db87e50ff513de7b840a6a\"].neighbourid.to_list()"
   ]
  },
  {
   "cell_type": "code",
   "execution_count": null,
   "id": "000fdb1e-d096-47ca-b118-b04d43379545",
   "metadata": {},
   "outputs": [],
   "source": [
    "neighbors = {}\n",
    "\n",
    "for i, row in useruser.iterrows():\n",
    "    print(f\"Processing row {i}\", end=\"\\r\")\n",
    "    if row.userid in neighbors.keys():\n",
    "        neighbors[row.userid][row.neighbourid] = row.score\n",
    "    else:\n",
    "        neighbors[row.userid] = {row.neighbourid: row.score}"
   ]
  },
  {
   "cell_type": "code",
   "execution_count": null,
   "id": "cb91a6ad",
   "metadata": {},
   "outputs": [],
   "source": [
    "import leidenalg as la\n",
    "\n",
    "graph = nx.DiGraph()\n",
    "graph.add_nodes_from(useruser.userid.unique())\n",
    "\n",
    "for row in useruser.itertuples():\n",
    "    graph.add_edge(row.userid, row.neighbourid, weight=row.score)\n",
    "\n",
    "ig_graph = ig.Graph.from_networkx(graph)\n",
    "ig_graph\n",
    "\n",
    "# clusters = ig.Graph.community_leiden(\n",
    "#     ig_graph, weights=\"weight\", n_iterations=100, objective_function=\"modularity\"\n",
    "# )\n",
    "\n",
    "partitions = la.find_partition(ig_graph, la.ModularityVertexPartition)"
   ]
  },
  {
   "cell_type": "code",
   "execution_count": null,
   "id": "e1fca650",
   "metadata": {},
   "outputs": [],
   "source": [
    "for partition in partitions:\n",
    "    print(partition)"
   ]
  },
  {
   "cell_type": "code",
   "execution_count": null,
   "id": "0075336f-0f4b-4dda-99f9-8926e4e49146",
   "metadata": {
    "tags": []
   },
   "outputs": [],
   "source": [
    "for j in [0,0.5,1]:\n",
    "    for k in [0,0.5,1]:\n",
    "        for l in [0,0.5,1]:\n",
    "            useruser = pd.read_pickle(f\"./data/final/user-user-{l}-{j}-{k}.pkl\")\n",
    "            graph = nx.DiGraph()\n",
    "            graph.add_nodes_from(useruser.userid.unique())\n",
    "            graph.add_nodes_from(useruser.neighbourid.unique())\n",
    "            \n",
    "            for row in useruser.itertuples():\n",
    "                graph.add_edge(row.userid, row.neighbourid, weight=row.score)\n",
    "                \n",
    "            ig.Graph\n",
    "            ig_graph = ig.Graph.from_networkx(graph)\n",
    "            \n",
    "            ig_to_mattermost = (\n",
    "                ig_graph.get_vertex_dataframe()\n",
    "                .reset_index()\n",
    "                .rename(columns={\"vertex ID\": \"igid\", \"_nx_name\": \"originid\"})\n",
    "            )\n",
    "            \n",
    "            ig_to_mattermost_dict = pd.Series(\n",
    "                ig_to_mattermost[\"originid\"].values, index=ig_to_mattermost.igid\n",
    "            ).to_dict()\n",
    "            \n",
    "            # clusters = ig.Graph.community_leiden(\n",
    "            #     ig_graph, weights=\"weight\", n_iterations=100, objective_function=\"modularity\"\n",
    "            # )\n",
    "\n",
    "            clusters = la.find_partition(ig_graph, la.ModularityVertexPartition)\n",
    "            \n",
    "            print(f\"Configuration with j: {j}, k: {k}, l: {l} has {len(clusters)} clusters.\", end=\"\\r\")\n",
    "            \n",
    "            clusters_for_pkl = []\n",
    "\n",
    "            for c, cluster in enumerate(clusters):\n",
    "                clusters_for_pkl.append(\n",
    "                    {\"cluster\": c, \"nodes\": [ig_to_mattermost_dict[node] for node in cluster]}\n",
    "                )\n",
    "                \n",
    "            pd.DataFrame(clusters_for_pkl).to_pickle(f\"./data/final/clusters-{l}-{j}-{k}.pkl\")"
   ]
  },
  {
   "cell_type": "markdown",
   "id": "5dccda39-722c-4020-af00-1f356fb18fd2",
   "metadata": {},
   "source": [
    "### Calculate modularity for each graph"
   ]
  },
  {
   "cell_type": "code",
   "execution_count": null,
   "id": "3db16c65-4d6a-4c3e-8939-2cb1c549c5a2",
   "metadata": {},
   "outputs": [],
   "source": [
    "modularities = []\n",
    "\n",
    "for j in [0,0.5,1]:\n",
    "    for k in [0,0.5,1]:\n",
    "        for l in [0,0.5,1]:\n",
    "            useruser = pd.read_pickle(f\"./data/final/user-user-{l}-{j}-{k}.pkl\")\n",
    "            graph = nx.Graph()\n",
    "            graph.add_nodes_from(useruser.userid.unique())\n",
    "\n",
    "            for row in useruser.itertuples():\n",
    "                graph.add_edge(row.userid, row.neighbourid, weight=row.score)\n",
    "\n",
    "            clusters = [set(cluster) for cluster in pd.read_pickle(f\"./data/final/clusters-{l}-{j}-{k}.pkl\").nodes.to_list()]\n",
    "            modularity = nx.algorithms.community.modularity(graph, clusters)\n",
    "            print(f\"Modulairty for j={j}, k={k} and l={l} is {modularity}\", end=\"\\r\")\n",
    "            modularities.append({\n",
    "                \"j\": j,\n",
    "                \"k\": k,\n",
    "                \"l\": l,\n",
    "                \"modularity\": modularity\n",
    "            })"
   ]
  },
  {
   "cell_type": "code",
   "execution_count": null,
   "id": "b1a16ff9-b14f-4d55-9f62-a3b7ca6c9534",
   "metadata": {},
   "outputs": [],
   "source": [
    "pd.DataFrame(modularities).sort_values(by=\"modularity\").reset_index(drop=True)"
   ]
  },
  {
   "cell_type": "code",
   "execution_count": null,
   "id": "354a6c9e-e703-4760-bcf2-f7e97a6c6134",
   "metadata": {},
   "outputs": [],
   "source": []
  }
 ],
 "metadata": {
  "interpreter": {
   "hash": "949777d72b0d2535278d3dc13498b2535136f6dfe0678499012e853ee9abcab1"
  },
  "kernelspec": {
   "display_name": "Python 3 (ipykernel)",
   "language": "python",
   "name": "python3"
  },
  "language_info": {
   "codemirror_mode": {
    "name": "ipython",
    "version": 3
   },
   "file_extension": ".py",
   "mimetype": "text/x-python",
   "name": "python",
   "nbconvert_exporter": "python",
   "pygments_lexer": "ipython3",
   "version": "3.9.5"
  }
 },
 "nbformat": 4,
 "nbformat_minor": 5
}
