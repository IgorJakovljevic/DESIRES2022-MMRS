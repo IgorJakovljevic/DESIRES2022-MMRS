{
 "cells": [
  {
   "cell_type": "code",
   "execution_count": null,
   "id": "8c36ca14-ea1f-4367-91b1-a727fa944e80",
   "metadata": {},
   "outputs": [],
   "source": [
    "import pandas as pd\n",
    "import numpy as np\n",
    "\n",
    "from cdhf import Data"
   ]
  },
  {
   "cell_type": "code",
   "execution_count": null,
   "id": "40470778",
   "metadata": {},
   "outputs": [],
   "source": [
    "test = pd.read_pickle(\"./data/final/people.pkl\")"
   ]
  },
  {
   "cell_type": "code",
   "execution_count": null,
   "id": "27b8c132-eca1-4696-8519-ea33c442781f",
   "metadata": {},
   "outputs": [],
   "source": [
    "data = Data(\"data/raw/mmdata.json\")\n",
    "data.load_all()"
   ]
  },
  {
   "cell_type": "markdown",
   "id": "432f189f-0d7f-4389-8ae2-ba78392741c8",
   "metadata": {},
   "source": [
    "## Extract users to a separate dataframe"
   ]
  },
  {
   "cell_type": "code",
   "execution_count": null,
   "id": "7e562896-66c7-4d7a-9156-01d3618782bf",
   "metadata": {},
   "outputs": [],
   "source": [
    "mattermost = pd.DataFrame(\n",
    "    [\n",
    "        {\n",
    "            \"userid\": userid,\n",
    "            \"building\": data.users[userid].building or \"no building\",\n",
    "            \"organisational unit\": data.users[userid].org_unit or \"no unit\",\n",
    "        }\n",
    "        for userid in list(data.users.keys())\n",
    "    ]\n",
    ")"
   ]
  },
  {
   "cell_type": "code",
   "execution_count": null,
   "id": "dd4f827c-0a7e-44b8-bf51-5ef6746817a8",
   "metadata": {},
   "outputs": [],
   "source": [
    "mattermost.head(3)"
   ]
  },
  {
   "cell_type": "markdown",
   "id": "1f9190e6-b5ec-4431-b618-ac12a047bc9e",
   "metadata": {},
   "source": [
    "## Extract teams for each user"
   ]
  },
  {
   "cell_type": "code",
   "execution_count": null,
   "id": "2f96a5c8-519a-429f-93ee-10907742b246",
   "metadata": {},
   "outputs": [],
   "source": [
    "user_teams = {userid: {\"teams\": [], \"leaving times\": []} for userid in mattermost.userid.to_list()}\n",
    "\n",
    "for member in data.team_members:\n",
    "    user_teams[member.user_id][\"teams\"].append(member.team_id)\n",
    "    user_teams[member.user_id][\"leaving times\"].append(member.delete_at or 0)"
   ]
  },
  {
   "cell_type": "code",
   "execution_count": null,
   "id": "3d024d65-fa98-47be-9710-98aea272b51c",
   "metadata": {},
   "outputs": [],
   "source": [
    "def add_team_info(row):\n",
    "    row[\"teams\"] = user_teams[row.userid][\"teams\"]\n",
    "    row[\"team leaving times\"] = user_teams[row.userid][\"leaving times\"]\n",
    "    return row\n",
    "\n",
    "\n",
    "mattermost = mattermost.apply(add_team_info, axis=1)"
   ]
  },
  {
   "cell_type": "code",
   "execution_count": null,
   "id": "56a425e1-dccb-4664-ba4f-22778f979248",
   "metadata": {},
   "outputs": [],
   "source": [
    "mattermost.head(3)"
   ]
  },
  {
   "cell_type": "markdown",
   "id": "97f06c10-d3e1-48d9-98f7-53d439494626",
   "metadata": {},
   "source": [
    "## Extract channels for each user"
   ]
  },
  {
   "cell_type": "code",
   "execution_count": null,
   "id": "df98b01c-6e62-4076-a092-47fc18fb678b",
   "metadata": {},
   "outputs": [],
   "source": [
    "user_channels = {\n",
    "    userid: {\"channels\": [], \"mention counts\": [], \"message counts\": []}\n",
    "    for userid in mattermost.userid.to_list()\n",
    "}\n",
    "\n",
    "for member in data.channel_members:\n",
    "    user_channels[member.user_id][\"channels\"].append(member.channel_id)\n",
    "    user_channels[member.user_id][\"mention counts\"].append(member.mention_count)\n",
    "    user_channels[member.user_id][\"message counts\"].append(member.msg_count)"
   ]
  },
  {
   "cell_type": "code",
   "execution_count": null,
   "id": "361265f3-422e-4f1d-a7e2-0581eb937fc0",
   "metadata": {},
   "outputs": [],
   "source": [
    "def add_channel_info(row):\n",
    "    row[\"channels\"] = user_channels[row.userid][\"channels\"]\n",
    "    row[\"channel mention counts\"] = user_channels[row.userid][\"mention counts\"]\n",
    "    row[\"channel message counts\"] = user_channels[row.userid][\"message counts\"]\n",
    "    return row\n",
    "\n",
    "\n",
    "mattermost = mattermost.apply(add_channel_info, axis=1)"
   ]
  },
  {
   "cell_type": "code",
   "execution_count": null,
   "id": "261e127e-8b87-44f3-9201-3ac3e027f280",
   "metadata": {},
   "outputs": [],
   "source": [
    "mattermost.head(3)"
   ]
  },
  {
   "cell_type": "markdown",
   "id": "22c29c7b-4ff1-4d15-914b-1aa87756af4a",
   "metadata": {},
   "source": [
    "## Extract building user counts\n",
    "\n",
    "Since there are employees which left CERN but were not removed from the CERN system there are buildings that have more employees assigned than there would realistically be in the building "
   ]
  },
  {
   "cell_type": "code",
   "execution_count": null,
   "id": "9e78adc9-5e52-45ce-85f4-93d9309625bd",
   "metadata": {},
   "outputs": [],
   "source": [
    "building_user_count = {}\n",
    "\n",
    "for building in data.building_members.keys():\n",
    "    building_user_count[building] = len(data.building_members[building])"
   ]
  },
  {
   "cell_type": "code",
   "execution_count": null,
   "id": "dea6e18b-bbf9-4d90-ace5-c66134d8235b",
   "metadata": {},
   "outputs": [],
   "source": [
    "def add_building_employee_count(row):\n",
    "    row[\"building employee count\"] = 0\n",
    "\n",
    "    if row.building != \"no building\":\n",
    "        row[\"building employee count\"] = building_user_count[row.building]\n",
    "\n",
    "    return row\n",
    "\n",
    "\n",
    "mattermost = mattermost.apply(add_building_employee_count, axis=1)"
   ]
  },
  {
   "cell_type": "code",
   "execution_count": null,
   "id": "38c0eaf4-5eab-4ac9-87f9-90fb61d67133",
   "metadata": {},
   "outputs": [],
   "source": [
    "mattermost.head(3)"
   ]
  },
  {
   "cell_type": "markdown",
   "id": "4693d551-4fb3-4b4c-893a-0ba65cf52e40",
   "metadata": {},
   "source": [
    "## Extract organisational unit user count"
   ]
  },
  {
   "cell_type": "code",
   "execution_count": null,
   "id": "bf2af912-6405-4b17-85e2-8da81c204593",
   "metadata": {},
   "outputs": [],
   "source": [
    "organisational_unit_user_count = {}\n",
    "\n",
    "for unit in data.org_unit_members.keys():\n",
    "    organisational_unit_user_count[unit] = len(data.org_unit_members[unit])"
   ]
  },
  {
   "cell_type": "code",
   "execution_count": null,
   "id": "96cb1665-f00f-4764-a522-b5e3e35189b8",
   "metadata": {},
   "outputs": [],
   "source": [
    "def add_organisational_unit_employee_count(row):\n",
    "    row[\"organisational unit employee count\"] = 0\n",
    "\n",
    "    if row[\"organisational unit\"] != \"no unit\":\n",
    "        row[\"organisational unit employee count\"] = organisational_unit_user_count[\n",
    "            row[\"organisational unit\"]\n",
    "        ]\n",
    "\n",
    "    return row\n",
    "\n",
    "\n",
    "mattermost = mattermost.apply(add_organisational_unit_employee_count, axis=1)"
   ]
  },
  {
   "cell_type": "code",
   "execution_count": null,
   "id": "ec9aff8c-9489-4a2d-93cd-6395ad62ad91",
   "metadata": {},
   "outputs": [],
   "source": [
    "mattermost.head(3)"
   ]
  },
  {
   "cell_type": "markdown",
   "id": "b263e3e0-540c-419c-acff-6fc22da007c9",
   "metadata": {},
   "source": [
    "## Extract employee type (internal or external)"
   ]
  },
  {
   "cell_type": "code",
   "execution_count": null,
   "id": "d3975453-2e35-44f0-b7dd-1cfc0fa36a42",
   "metadata": {},
   "outputs": [],
   "source": [
    "def extract_employee_type(row):\n",
    "    row[\"employee type\"] = \"internal\"\n",
    "\n",
    "    if row.building == \"no building\" or row[\"organisational unit\"] == \"no unit\":\n",
    "        row[\"employee type\"] = \"external\"\n",
    "\n",
    "    return row\n",
    "\n",
    "\n",
    "mattermost = mattermost.apply(extract_employee_type, axis=1)"
   ]
  },
  {
   "cell_type": "code",
   "execution_count": null,
   "id": "090730a0-4063-45ca-81cd-470a985d28f4",
   "metadata": {},
   "outputs": [],
   "source": [
    "mattermost.head(3)"
   ]
  },
  {
   "cell_type": "markdown",
   "id": "1ceee92e-c31a-41eb-a9b9-7eccc5b1dffa",
   "metadata": {},
   "source": [
    "## Change ids format \n",
    "\n",
    "Change user ids to format `user_{num}`  \n",
    "Change building ids to format `building_{num}`  \n",
    "Change organisational unit ids to format `unit_{num}`  \n",
    "Change team ids to format `team_{num}`  \n",
    "Change channel ids to format `channel_{num}`"
   ]
  },
  {
   "cell_type": "code",
   "execution_count": null,
   "id": "7d30e64d-4650-4a52-851e-a1ed997769b7",
   "metadata": {},
   "outputs": [],
   "source": [
    "def transform_userid(row):\n",
    "    row.userid = f\"user_{row.userid}\"\n",
    "    return row\n",
    "\n",
    "\n",
    "def get_id_dictionary(row):\n",
    "    return [row[\"userid\"], f\"user_{row['index']}\"]\n",
    "\n",
    "\n",
    "mattermost = mattermost.reset_index()\n",
    "user_id_dictionary = mattermost.apply(get_id_dictionary, axis=1)\n",
    "mattermost = mattermost.drop(columns=[\"userid\"]).rename(columns={\"index\": \"userid\"})\n",
    "mattermost = mattermost.apply(transform_userid, axis=1)"
   ]
  },
  {
   "cell_type": "code",
   "execution_count": null,
   "id": "4d6e0fa5-cfa1-4942-acec-014f3e1afc57",
   "metadata": {},
   "outputs": [],
   "source": [
    "user_id_dict = {element[1]: element[0] for element in user_id_dictionary.to_list()}"
   ]
  },
  {
   "cell_type": "code",
   "execution_count": null,
   "id": "b248e47d-7951-4c1b-b753-2d25a4f86905",
   "metadata": {},
   "outputs": [],
   "source": [
    "mattermost.head(3)"
   ]
  },
  {
   "cell_type": "code",
   "execution_count": null,
   "id": "7951184a-f1dc-468d-9b17-c1dbe3b30ce9",
   "metadata": {},
   "outputs": [],
   "source": [
    "building_string_ids = {}\n",
    "\n",
    "for i, building in enumerate(mattermost.building.unique()):\n",
    "    building_string_ids[building] = f\"building_{i}\"\n",
    "\n",
    "    if building == \"no building\":\n",
    "        building_string_ids[building] = \"no building\"\n",
    "\n",
    "\n",
    "def transform_building(row):\n",
    "    row.building = building_string_ids[row.building]\n",
    "    return row\n",
    "\n",
    "\n",
    "mattermost = mattermost.apply(transform_building, axis=1)"
   ]
  },
  {
   "cell_type": "code",
   "execution_count": null,
   "id": "a15326d1-7c74-4724-8d40-d336fee0795b",
   "metadata": {},
   "outputs": [],
   "source": [
    "mattermost.head(3)"
   ]
  },
  {
   "cell_type": "code",
   "execution_count": null,
   "id": "5c35539c-7931-4c2e-9c93-91aeda640dd8",
   "metadata": {},
   "outputs": [],
   "source": [
    "organisational_unit_string_ids = {}\n",
    "\n",
    "for i, unit in enumerate(mattermost[\"organisational unit\"].unique()):\n",
    "    organisational_unit_string_ids[unit] = \"no unit\"\n",
    "\n",
    "    if unit != \"no unit\":\n",
    "        organisational_unit_string_ids[unit] = f\"unit_{i}\"\n",
    "\n",
    "\n",
    "def transform_organisational_unit(row):\n",
    "    row[\"organisational unit\"] = organisational_unit_string_ids[row[\"organisational unit\"]]\n",
    "    return row\n",
    "\n",
    "\n",
    "mattermost = mattermost.apply(transform_organisational_unit, axis=1)"
   ]
  },
  {
   "cell_type": "code",
   "execution_count": null,
   "id": "0a192b00-51d1-4172-9c9d-c1cd16cfc605",
   "metadata": {},
   "outputs": [],
   "source": [
    "mattermost.head(3)"
   ]
  },
  {
   "cell_type": "code",
   "execution_count": null,
   "id": "2062c447-3884-4253-a234-80e00c3cc817",
   "metadata": {
    "tags": []
   },
   "outputs": [],
   "source": [
    "team_details = {}\n",
    "\n",
    "for i, team in enumerate(data.teams):\n",
    "    team_details[team.team_id] = {\n",
    "        \"label\": f\"team_{i}\",\n",
    "        \"channels\": team.channels,\n",
    "        \"restrictions\": [],\n",
    "    }\n",
    "\n",
    "    if team.invite_only == True:\n",
    "        team_details[team.team_id][\"restrictions\"].append(\"Invite only\")\n",
    "\n",
    "    if team.email_domain_restricted == True:\n",
    "        team_details[team.team_id][\"restrictions\"].append(\"Email domain restricted\")"
   ]
  },
  {
   "cell_type": "code",
   "execution_count": null,
   "id": "23d3b7a6-754d-4bd0-bbef-d45d640543bd",
   "metadata": {},
   "outputs": [],
   "source": [
    "channel_details = {}\n",
    "\n",
    "channel_id_counter = 0\n",
    "\n",
    "for i, channel in enumerate(data.channels):\n",
    "    channel_details[channel.channel_id] = {\n",
    "        \"label\": f\"channel_{i}\",\n",
    "        \"creator\": channel.creator_id,\n",
    "        \"message count\": channel.total_msg_count,\n",
    "        \"post count\": channel.post_count,\n",
    "        \"reaction count\": channel.reactions_count,\n",
    "        \"member count\": len(channel.channel_members),\n",
    "        \"channel type\": \"public\",\n",
    "    }\n",
    "\n",
    "    channel_id_counter = i + 1\n",
    "print(f\"There are {channel_id_counter} channels\")"
   ]
  },
  {
   "cell_type": "code",
   "execution_count": null,
   "id": "7b555382-225a-4dd8-a36a-7891199bb9d7",
   "metadata": {},
   "outputs": [],
   "source": [
    "for team_id in team_details.keys():\n",
    "    team_details[team_id][\"channels\"] = [\n",
    "        channel_details[channel.channel_id][\"label\"]\n",
    "        for channel in team_details[team_id][\"channels\"]\n",
    "    ]"
   ]
  },
  {
   "cell_type": "code",
   "execution_count": null,
   "id": "24fd0079-29b4-4de4-a9f6-8ad7c6c40fa5",
   "metadata": {},
   "outputs": [],
   "source": [
    "user_id_dictionary = {entry[0]: entry[1] for entry in user_id_dictionary}"
   ]
  },
  {
   "cell_type": "code",
   "execution_count": null,
   "id": "7b326c54-6ba2-4f37-8a05-be8b8987b7c2",
   "metadata": {},
   "outputs": [],
   "source": [
    "for channel in channel_details.keys():\n",
    "    channel_details[channel][\"creator\"] = \"unknown creator\"\n",
    "\n",
    "    if channel_details[channel][\"creator\"] in user_id_dictionary:\n",
    "        channel_details[channel][\"creator\"] = user_id_dictionary[\n",
    "            channel_details[channel][\"creator\"]\n",
    "        ]"
   ]
  },
  {
   "cell_type": "code",
   "execution_count": null,
   "id": "80ee17a7-d34f-4164-a7b6-bbe534516f9f",
   "metadata": {},
   "outputs": [],
   "source": [
    "def change_team_ids(row):\n",
    "    row[\"teams\"] = [team_details[team][\"label\"] for team in row[\"teams\"]]\n",
    "    return row\n",
    "\n",
    "\n",
    "mattermost = mattermost.apply(change_team_ids, axis=1)"
   ]
  },
  {
   "cell_type": "code",
   "execution_count": null,
   "id": "9014ed52-a155-43c9-8c8f-d885fa326540",
   "metadata": {},
   "outputs": [],
   "source": [
    "mattermost.head(3)"
   ]
  },
  {
   "cell_type": "markdown",
   "id": "906106fa-a88e-4a48-bcee-5e393ea251da",
   "metadata": {},
   "source": [
    "## Get private channels and get members of private channels"
   ]
  },
  {
   "cell_type": "code",
   "execution_count": null,
   "id": "30afc400-34b7-45ba-aa46-ca0c135e5e49",
   "metadata": {
    "tags": []
   },
   "outputs": [],
   "source": [
    "all_channels = np.unique(\n",
    "    np.array(\n",
    "        [\n",
    "            channel\n",
    "            for user_channels in list(mattermost.apply(lambda row: row.channels, axis=1))\n",
    "            for channel in user_channels\n",
    "        ]\n",
    "    )\n",
    ").tolist()\n",
    "\n",
    "print(\n",
    "    f\"There are {len(all_channels)} channels in mattermost from which {len(channel_details)} are public and {len(all_channels) - len(channel_details)} are private.\"\n",
    ")"
   ]
  },
  {
   "cell_type": "code",
   "execution_count": null,
   "id": "dbccb1dc-0b7f-48a3-83cd-5f2d153173a3",
   "metadata": {
    "tags": []
   },
   "outputs": [],
   "source": [
    "# Extract user Channels\n",
    "for channel in np.unique(\n",
    "    np.array(\n",
    "        [\n",
    "            channel\n",
    "            for user_channels in list(mattermost.apply(lambda row: row.channels, axis=1))\n",
    "            for channel in user_channels\n",
    "        ]\n",
    "    )\n",
    "):\n",
    "    if channel not in channel_details:\n",
    "        channel_details[channel] = {\n",
    "            \"label\": f\"channel_{channel_id_counter}\",\n",
    "            \"creator\": \"unknown creator\",\n",
    "            \"message count\": 0,\n",
    "            \"post count\": 0,\n",
    "            \"reaction count\": 0,\n",
    "            \"member count\": 0,\n",
    "            \"channel type\": \"private\",\n",
    "        }\n",
    "        channel_id_counter = channel_id_counter + 1"
   ]
  },
  {
   "cell_type": "markdown",
   "id": "142a1b85-9f19-4521-a78a-360f318025d1",
   "metadata": {},
   "source": [
    "## Add private channels"
   ]
  },
  {
   "cell_type": "code",
   "execution_count": null,
   "id": "43dfe6ce-7015-42e8-a071-888623133df8",
   "metadata": {},
   "outputs": [],
   "source": [
    "for i, row in mattermost.iterrows():\n",
    "    for channel in row[\"channels\"]:\n",
    "        if channel_details[channel][\"channel type\"] == \"private\":\n",
    "            channel_details[channel][\"member count\"] = channel_details[channel][\"member count\"] + 1"
   ]
  },
  {
   "cell_type": "markdown",
   "id": "bafe2371-a131-40bc-b1e3-e9c51b68383d",
   "metadata": {},
   "source": [
    "## Modify channel ids "
   ]
  },
  {
   "cell_type": "code",
   "execution_count": null,
   "id": "0c3f3015-9d00-4921-8105-4d33076ba7fe",
   "metadata": {},
   "outputs": [],
   "source": [
    "def change_channel_ids(row):\n",
    "    row[\"channels\"] = [channel_details[channel][\"label\"] for channel in row[\"channels\"]]\n",
    "    return row\n",
    "\n",
    "\n",
    "mattermost = mattermost.apply(change_channel_ids, axis=1)"
   ]
  },
  {
   "cell_type": "code",
   "execution_count": null,
   "id": "b403a416-07c3-4745-98c4-762f6c3ab784",
   "metadata": {},
   "outputs": [],
   "source": [
    "mattermost.head(3)"
   ]
  },
  {
   "cell_type": "markdown",
   "id": "1232468c-68c8-4b97-bd65-8d79a66d1bd8",
   "metadata": {},
   "source": [
    "## Save to files"
   ]
  },
  {
   "cell_type": "code",
   "execution_count": null,
   "id": "166f3b98-a47c-4c01-adeb-87348f73f653",
   "metadata": {},
   "outputs": [],
   "source": [
    "mattermost.to_pickle(\"./data/intermediate/people.pkl\")"
   ]
  },
  {
   "cell_type": "code",
   "execution_count": null,
   "id": "1ffa7c5d-ffcc-41e7-9a2d-8e47c7aedc9d",
   "metadata": {},
   "outputs": [],
   "source": [
    "channel_list = [channel_details[channel_id] for channel_id in channel_details.keys()]\n",
    "pd.DataFrame(channel_list).to_pickle(\"./data/intermediate/channels.pkl\")"
   ]
  },
  {
   "cell_type": "code",
   "execution_count": null,
   "id": "2d188eac-c4c4-49ef-a66d-364989b1af70",
   "metadata": {},
   "outputs": [],
   "source": [
    "team_list = [team_details[team_id] for team_id in team_details.keys()]\n",
    "pd.DataFrame(team_list).to_pickle(\"./data/intermediate/teams.pkl\")"
   ]
  },
  {
   "cell_type": "markdown",
   "id": "459d433c-e0b0-4d01-9e9a-85013a04b340",
   "metadata": {},
   "source": [
    "## Exporting ID dicts\n",
    "These are needed later to reverse the ids"
   ]
  },
  {
   "cell_type": "code",
   "execution_count": null,
   "id": "f465db4c-600e-4613-96d1-ba1e2bd31585",
   "metadata": {},
   "outputs": [],
   "source": [
    "pd.DataFrame(\n",
    "    [{\"new_id\": key, \"old_id\": user_id_dict[key]} for key in user_id_dict.keys()]\n",
    ").to_pickle(\"./data/intermediate/user_ids.pkl\")"
   ]
  },
  {
   "cell_type": "code",
   "execution_count": null,
   "id": "f75087eb-3c51-408b-bb2d-89c877c0a83c",
   "metadata": {},
   "outputs": [],
   "source": [
    "pd.DataFrame(\n",
    "    [\n",
    "        {\"new_id\": channel_details[key][\"label\"], \"old_id\": key}\n",
    "        for key in channel_details.keys()\n",
    "        if channel_details[key][\"channel type\"] == \"public\"\n",
    "    ]\n",
    ").to_pickle(\"./data/intermediate/channel_ids.pkl\")"
   ]
  },
  {
   "cell_type": "code",
   "execution_count": null,
   "id": "b33399f2-2e67-4f27-b893-af72f5debe41",
   "metadata": {},
   "outputs": [],
   "source": [
    "print(f\"There are {len(channel_list)} channels.\")\n",
    "print(f\"There are {len(team_list)} teams.\")\n",
    "print(f\"There are {len(mattermost.userid.to_list())} users\")\n",
    "print(f\"There are {len(mattermost.building.unique())} buildings\")\n",
    "print(f\"There are {len(mattermost['organisational unit'].unique())} organisational units\")"
   ]
  },
  {
   "cell_type": "code",
   "execution_count": null,
   "id": "8d9d94e9",
   "metadata": {},
   "outputs": [],
   "source": []
  }
 ],
 "metadata": {
  "interpreter": {
   "hash": "949777d72b0d2535278d3dc13498b2535136f6dfe0678499012e853ee9abcab1"
  },
  "kernelspec": {
   "display_name": "Python 3 (ipykernel)",
   "language": "python",
   "name": "python3"
  },
  "language_info": {
   "codemirror_mode": {
    "name": "ipython",
    "version": 3
   },
   "file_extension": ".py",
   "mimetype": "text/x-python",
   "name": "python",
   "nbconvert_exporter": "python",
   "pygments_lexer": "ipython3",
   "version": "3.9.5"
  }
 },
 "nbformat": 4,
 "nbformat_minor": 5
}
