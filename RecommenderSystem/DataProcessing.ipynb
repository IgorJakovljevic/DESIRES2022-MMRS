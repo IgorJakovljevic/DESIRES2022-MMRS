{
 "cells": [
  {
   "cell_type": "code",
   "execution_count": 1,
   "id": "5f4baede-230e-46ca-9db8-e719759b2396",
   "metadata": {},
   "outputs": [
    {
     "ename": "ModuleNotFoundError",
     "evalue": "No module named 'cdhf'",
     "output_type": "error",
     "traceback": [
      "\u001b[0;31m---------------------------------------------------------------------------\u001b[0m",
      "\u001b[0;31mModuleNotFoundError\u001b[0m                       Traceback (most recent call last)",
      "\u001b[1;32m/mnt/c/Projects/Doctoral/Desires2022-Mattermost-Recommendations/RecommenderSystem/DataProcessing.ipynb Cell 1'\u001b[0m in \u001b[0;36m<cell line: 1>\u001b[0;34m()\u001b[0m\n\u001b[0;32m----> <a href='vscode-notebook-cell://wsl%2Bubuntu-20.04/mnt/c/Projects/Doctoral/Desires2022-Mattermost-Recommendations/RecommenderSystem/DataProcessing.ipynb#ch0000000vscode-remote?line=0'>1</a>\u001b[0m \u001b[39mfrom\u001b[39;00m \u001b[39mcdhf\u001b[39;00m\u001b[39m.\u001b[39;00m\u001b[39mdata\u001b[39;00m \u001b[39mimport\u001b[39;00m Data\n",
      "\u001b[0;31mModuleNotFoundError\u001b[0m: No module named 'cdhf'"
     ]
    }
   ],
   "source": [
    "from cdhf.data import Data"
   ]
  },
  {
   "cell_type": "code",
   "execution_count": null,
   "id": "1c489756-c077-498f-bc8c-7864466e8f4d",
   "metadata": {},
   "outputs": [],
   "source": [
    "data = Data(\"../input/mmdata.json\")\n",
    "data.load_all()\n",
    "print(len(data.teams))"
   ]
  },
  {
   "cell_type": "markdown",
   "id": "246b3884-aea2-40b9-9bc5-6fa01a71728f",
   "metadata": {},
   "source": [
    "## Import Necessary Libraries "
   ]
  },
  {
   "cell_type": "code",
   "execution_count": null,
   "id": "4a640c9c-1aa8-4a19-8827-2ec8ad2ef0bc",
   "metadata": {},
   "outputs": [],
   "source": [
    "import pandas as pd\n",
    "import numpy as np"
   ]
  },
  {
   "cell_type": "markdown",
   "id": "11baabcd",
   "metadata": {},
   "source": [
    "### Convert Channel Members to Pandas DataFrame\n"
   ]
  },
  {
   "cell_type": "code",
   "execution_count": null,
   "id": "42ff5ce0-cd45-4c3b-8cb5-862ef005c282",
   "metadata": {},
   "outputs": [],
   "source": [
    "df = pd.DataFrame.from_records([vars(cm) for cm in data.channel_members])\n",
    "df[\"index\"] = df[\"channel_id\"] + \"-\" + df[\"user_id\"]\n",
    "df.set_index('index', inplace=True)"
   ]
  },
  {
   "cell_type": "markdown",
   "id": "2302c4e1",
   "metadata": {},
   "source": [
    "### Remove Channels with less than 3 users"
   ]
  },
  {
   "cell_type": "code",
   "execution_count": null,
   "id": "168a7483-d2b5-4b70-b771-1a67ec6f7fe4",
   "metadata": {},
   "outputs": [],
   "source": [
    "df_grouped_users = df.groupby([\"channel_id\"]).count()\n",
    "allowed_channels = df_grouped_users[df_grouped_users[\"user_id\"] > 3].index.array\n",
    "df = df[df[\"channel_id\"].isin(allowed_channels)]"
   ]
  },
  {
   "cell_type": "markdown",
   "id": "0e8248ce-9369-4905-9a98-2842e955eb09",
   "metadata": {},
   "source": [
    "### Scaling message count to be a value between 1 and 5"
   ]
  },
  {
   "cell_type": "code",
   "execution_count": null,
   "id": "8cbeb691-1db6-43bc-a124-f571eb0c3a3a",
   "metadata": {},
   "outputs": [],
   "source": [
    "from sklearn.preprocessing import MinMaxScaler\n",
    "\n",
    "scaler = MinMaxScaler(feature_range=(1,5))\n",
    "df_scale = pd.DataFrame(df[\"msg_count\"])\n",
    "arr_scaled = scaler.fit_transform(df_scale)\n",
    "df_scaled = pd.DataFrame(arr_scaled, columns=[\"msg_count\"],index=df.index)\n",
    "df[\"rating_scaled\"] = df_scaled\n",
    "df[\"rating\"] = 1.0"
   ]
  },
  {
   "cell_type": "code",
   "execution_count": null,
   "id": "837c0157-526f-412e-9bd1-64808a0efa96",
   "metadata": {},
   "outputs": [],
   "source": [
    "ratings = df.drop(columns = [\"msg_count\", \"mention_count\", \"rating_scaled\"])"
   ]
  },
  {
   "cell_type": "markdown",
   "id": "a08769be",
   "metadata": {},
   "source": [
    "## Implicity Framework Example \n",
    "\n",
    "Collaborative Filtering Article --> http://yifanhu.net/PUB/cf.pdf\n",
    "\n",
    "Framework Documentation --> https://benfred.github.io/implicit/tutorial_lastfm.html"
   ]
  },
  {
   "cell_type": "code",
   "execution_count": null,
   "id": "40035434",
   "metadata": {},
   "outputs": [],
   "source": [
    "import implicit\n",
    "from implicit.datasets.lastfm import get_lastfm\n",
    "\n",
    "artists, users, artist_user_plays = get_lastfm()\n",
    "print(artist_user_plays.data)"
   ]
  },
  {
   "cell_type": "markdown",
   "id": "a4e68391-d974-4c9c-8d4d-5dd9e9429ae1",
   "metadata": {},
   "source": [
    "## Spliting data into training and test data"
   ]
  },
  {
   "cell_type": "code",
   "execution_count": null,
   "id": "eea455ae-b1c0-4874-9f58-b042e42ec60d",
   "metadata": {},
   "outputs": [],
   "source": [
    "#Import the train_test_split function\n",
    "from sklearn.model_selection import train_test_split\n",
    "\n",
    "#Assign X as the original ratings dataframe and y as the user_id column of ratings.\n",
    "X = ratings.copy()\n",
    "y = ratings['user_id']\n",
    "print(X.shape)\n",
    "print(len(y))\n",
    "#Split into training and test datasets, stratified along user_id\n",
    "X_train, X_test, y_train, y_test = train_test_split(X, y, test_size = 0.25, random_state=42)"
   ]
  },
  {
   "cell_type": "markdown",
   "id": "e759a83d-26fa-4bba-a44b-c223fa19fb0a",
   "metadata": {},
   "source": [
    "## Evaluation"
   ]
  },
  {
   "cell_type": "code",
   "execution_count": null,
   "id": "3ebceba0-2c8b-4d9d-b2c2-c99e104f59da",
   "metadata": {},
   "outputs": [],
   "source": [
    "#Import the mean_squared_error function\n",
    "from sklearn.metrics import mean_squared_error\n",
    "\n",
    "#Function that computes the root mean squared error (or RMSE)\n",
    "def rmse(y_true, y_pred):\n",
    "    return np.sqrt(mean_squared_error(y_true, y_pred))"
   ]
  },
  {
   "cell_type": "code",
   "execution_count": null,
   "id": "c43047ce-7663-41ed-bb26-390162dd0b31",
   "metadata": {},
   "outputs": [],
   "source": [
    "#Define the baseline model to always return 3.\n",
    "\n",
    "def baseline(user_id, movie_id):\n",
    "    return 0.0"
   ]
  },
  {
   "cell_type": "code",
   "execution_count": null,
   "id": "80aa0bfe-8d4b-4220-b182-2f71a4ab2339",
   "metadata": {},
   "outputs": [],
   "source": [
    "#Function to compute the RMSE score obtained on the testing set by a model\n",
    "def score(cf_model):\n",
    "    \n",
    "    #Construct a list of user-movie tuples from the testing dataset\n",
    "    id_pairs = zip(X_test['user_id'], X_test['channel_id'])\n",
    "    \n",
    "    #Predict the rating for every user-movie tuple\n",
    "    y_pred = np.array([cf_model(user, channel) for (user, channel) in id_pairs])\n",
    "    y_pred[np.isnan(y_pred)] = 0\n",
    "    #Extract the actual ratings given by the users in the test data\n",
    "    y_true = np.array(X_test['rating'])\n",
    "    \n",
    "    #Return the final RMSE score\n",
    "    return rmse(y_true, y_pred)"
   ]
  },
  {
   "cell_type": "markdown",
   "id": "08acd781-3007-4244-8483-f169df2ecb1a",
   "metadata": {},
   "source": [
    "### Score Baseline"
   ]
  },
  {
   "cell_type": "code",
   "execution_count": null,
   "id": "5cbae986-a473-44a6-b431-170aae1d3b74",
   "metadata": {},
   "outputs": [],
   "source": [
    "print(1.9969011004768398)\n",
    "score(baseline)"
   ]
  },
  {
   "cell_type": "markdown",
   "id": "165cdbdf-f16f-4d43-a2e4-d1660cfc59b7",
   "metadata": {},
   "source": [
    "### User-based collaborative filtering"
   ]
  },
  {
   "cell_type": "code",
   "execution_count": null,
   "id": "d58eb65c-74bd-4fff-a958-11742c2fc9af",
   "metadata": {},
   "outputs": [],
   "source": [
    "#Build the ratings matrix using pivot_table function\n",
    "r_matrix = X_train.pivot_table(values='rating', index='user_id', columns='channel_id')\n",
    "r_matrix.head()"
   ]
  },
  {
   "cell_type": "markdown",
   "id": "4364a6d8-e343-48be-8562-e7dad473adf0",
   "metadata": {},
   "source": [
    "#### Simple collaborative filter - Min\n",
    "\n",
    "This simply takes in user_id and channel_id and outputs the min rating for the channel by all the users who have rated it. No distinction is made between the users. In other words, the rating of each user is assigned equal weight."
   ]
  },
  {
   "cell_type": "code",
   "execution_count": null,
   "id": "5034e11b-7835-42c3-8ce2-9404e8804d5e",
   "metadata": {},
   "outputs": [],
   "source": [
    "#User Based Collaborative Filter using Min Ratings\n",
    "def cf_user_mean(user_id, channel_id):\n",
    "    \n",
    "    #Check if movie_id exists in r_matrix\n",
    "    if channel_id in r_matrix:\n",
    "        #Compute the mean of all the \"ratings\" given to the channel\n",
    "        mean_rating = r_matrix[channel_id].mean()\n",
    "    \n",
    "    else:\n",
    "        #Default to a \"rating\" of 0.0 in the absence of any information\n",
    "        mean_rating = 0.0\n",
    "    \n",
    "    return mean_rating\n",
    "    \n",
    "\n",
    "#Compute RMSE for the Mean model\n",
    "score(cf_user_mean)"
   ]
  },
  {
   "cell_type": "markdown",
   "id": "5cf74bf6-73ec-458a-9c12-d99cf828f180",
   "metadata": {},
   "source": [
    "#### Simple collaborative filter -  Weighted mean"
   ]
  },
  {
   "cell_type": "code",
   "execution_count": null,
   "id": "4bb7c373-cb05-4c29-aef6-170cc91d1b88",
   "metadata": {},
   "outputs": [],
   "source": [
    "#Create a dummy ratings matrix with all null values imputed to 0\n",
    "r_matrix_dummy = r_matrix.copy().fillna(0)\n",
    "\n",
    "# Import cosine_score \n",
    "from sklearn.metrics.pairwise import cosine_similarity\n",
    "\n",
    "#Compute the cosine similarity matrix using the dummy ratings matrix\n",
    "cosine_sim = cosine_similarity(r_matrix_dummy, r_matrix_dummy)\n",
    "\n",
    "#Convert into pandas dataframe \n",
    "cosine_sim = pd.DataFrame(cosine_sim, index=r_matrix.index, columns=r_matrix.index)\n",
    "\n",
    "cosine_sim.head(10)"
   ]
  },
  {
   "cell_type": "markdown",
   "id": "0e434b2f-d264-4ec2-afee-71a0ff97cfeb",
   "metadata": {
    "tags": []
   },
   "source": [
    "##### User Based Collaborative Filter using Weighted Mean Ratings"
   ]
  },
  {
   "cell_type": "code",
   "execution_count": null,
   "id": "485e3bd4-54b0-44fe-a52a-64df454617ed",
   "metadata": {},
   "outputs": [],
   "source": [
    "\n",
    "def cf_user_wmin(user_id, channel_id):\n",
    "    \n",
    "    #Check if channel_id exists in r_matrix\n",
    "    if channel_id in r_matrix :\n",
    "        \n",
    "        #Get the similarity scores for the user in question with every other user\n",
    "        sim_scores = cosine_sim[user_id]\n",
    "\n",
    "        #Get the user ratings for the channel in question\n",
    "        m_ratings = r_matrix[channel_id]\n",
    "\n",
    "        #Extract the indices containing NaN in the m_ratings series\n",
    "        idx = m_ratings[m_ratings.isnull()].index\n",
    "\n",
    "        #Drop the NaN values from the m_ratings Series\n",
    "        m_ratings = m_ratings.dropna()\n",
    "\n",
    "        #Drop the corresponding cosine scores from the sim_scores series\n",
    "        sim_scores = sim_scores.drop(idx)\n",
    "        \n",
    "        #Compute the final weighted mean\n",
    "        wmean_rating = np.dot(sim_scores, m_ratings)/ sim_scores.sum()\n",
    "    \n",
    "    else:\n",
    "        #Default to a rating of 0.0 in the absence of any information\n",
    "        wmean_rating = 0.0\n",
    "\n",
    "    return wmean_rating\n",
    "\n",
    "score(cf_user_wmin)\n"
   ]
  }
 ],
 "metadata": {
  "interpreter": {
   "hash": "3c6710c6338c3a43678f1ef28d4c6ed63a77d410a91cdedd60b3283f85d762de"
  },
  "kernelspec": {
   "display_name": "Python 3.8.10 ('env': venv)",
   "language": "python",
   "name": "python3"
  },
  "language_info": {
   "codemirror_mode": {
    "name": "ipython",
    "version": 3
   },
   "file_extension": ".py",
   "mimetype": "text/x-python",
   "name": "python",
   "nbconvert_exporter": "python",
   "pygments_lexer": "ipython3",
   "version": "3.8.10"
  }
 },
 "nbformat": 4,
 "nbformat_minor": 5
}
