{
 "cells": [
  {
   "cell_type": "code",
   "execution_count": null,
   "metadata": {},
   "outputs": [],
   "source": [
    "import os\n",
    "import random\n",
    "import pandas as pd\n",
    "\n",
    "from cdhf.data import Data\n",
    "from tqdm.notebook import tqdm as log_progress\n",
    "from utils.helpers import execute, save_pckl, create_init_dataframe\n",
    "from utils.power_functions import PowerFuncScore\n",
    "\n",
    "pd.options.mode.chained_assignment = None  # default='warn'"
   ]
  },
  {
   "cell_type": "code",
   "execution_count": null,
   "metadata": {},
   "outputs": [],
   "source": [
    "random.seed(42)\n",
    "random_sample = random.sample(range(10, 300), 1)\n",
    "data = Data(\"../input/mmdata.json\")\n",
    "data.load_all()"
   ]
  },
  {
   "cell_type": "code",
   "execution_count": null,
   "metadata": {},
   "outputs": [],
   "source": [
    "df = create_init_dataframe(data)"
   ]
  },
  {
   "cell_type": "code",
   "execution_count": null,
   "metadata": {},
   "outputs": [],
   "source": [
    "df_evals = pd.DataFrame()\n",
    "\n",
    "feature_evals = {}\n",
    "\n",
    "feature_path = \"Processed/Ego\"\n",
    "feature_files = [f for f in os.listdir(feature_path) if os.path.isfile(os.path.join(feature_path, f))]\n",
    "power_function = PowerFuncScore()\n",
    "\n",
    "for feature_file in log_progress(feature_files):                \n",
    "    feature_df = pd.read_pickle(os.path.join(feature_path, feature_file)).rename(columns={\"userid\":\"user_id\", \"channelid\":\"channel_id\"})    \n",
    "\n",
    "    rec_df = pd.merge(df, feature_df, on=['user_id','channel_id'], how=\"outer\").fillna(0)    \n",
    "    rec_df.loc[:,'score'] = rec_df['score'].apply(lambda x: x*1000)\n",
    "    feature_evals[feature_file] = execute(rec_df[[\"user_id\", \"channel_id\", \"score\", \"u_id\", \"c_id\"]], random_sample) \n",
    "    path = f\"Evaulation/Complex/Ego/{feature_file}\" \n",
    "    save_pckl(path, feature_evals[feature_file])           "
   ]
  },
  {
   "cell_type": "code",
   "execution_count": null,
   "metadata": {},
   "outputs": [],
   "source": [
    "for key in feature_evals:      \n",
    "    eval_frame = feature_evals[key]    \n",
    "    display(eval_frame)  "
   ]
  }
 ],
 "metadata": {
  "interpreter": {
   "hash": "3c6710c6338c3a43678f1ef28d4c6ed63a77d410a91cdedd60b3283f85d762de"
  },
  "kernelspec": {
   "display_name": "Python 3.8.10 ('env': venv)",
   "language": "python",
   "name": "python3"
  },
  "language_info": {
   "codemirror_mode": {
    "name": "ipython",
    "version": 3
   },
   "file_extension": ".py",
   "mimetype": "text/x-python",
   "name": "python",
   "nbconvert_exporter": "python",
   "pygments_lexer": "ipython3",
   "version": "3.8.10"
  },
  "orig_nbformat": 4
 },
 "nbformat": 4,
 "nbformat_minor": 2
}
