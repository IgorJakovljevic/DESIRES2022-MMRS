{
 "cells": [
  {
   "cell_type": "code",
   "execution_count": null,
   "metadata": {},
   "outputs": [],
   "source": [
    "import os\n",
    "import random\n",
    "import pandas as pd\n",
    "\n",
    "from cdhf.data import Data\n",
    "from tqdm.notebook import tqdm as log_progress\n",
    "from utils.helpers import save_pckl, create_init_dataframe, collaborative_filtering_cluster\n",
    "\n",
    "pd.options.mode.chained_assignment = None  # default='warn'\n"
   ]
  },
  {
   "cell_type": "code",
   "execution_count": null,
   "metadata": {},
   "outputs": [],
   "source": [
    "random.seed(42)\n",
    "random_sample = random.sample(range(10, 300), 1)\n",
    "data = Data(\"../input/mmdata.json\")\n",
    "data.load_all()"
   ]
  },
  {
   "cell_type": "code",
   "execution_count": null,
   "metadata": {},
   "outputs": [],
   "source": [
    "df = create_init_dataframe(data)"
   ]
  },
  {
   "cell_type": "code",
   "execution_count": null,
   "metadata": {},
   "outputs": [],
   "source": [
    "cluster_evals = {}\n",
    "\n",
    "clustering_path = \"Processed/Clustering\"\n",
    "cluser_plks = [f for f in os.listdir(clustering_path) if os.path.isfile(os.path.join(clustering_path, f))]\n",
    "cluser_plks = [cpks for cpks in cluser_plks]\n",
    "\n",
    "for cluser_plk in log_progress(cluser_plks):\n",
    "    cluster_evals[cluser_plk] =  pd.DataFrame()\n",
    "    df_cluster  = pd.read_pickle(os.path.join(clustering_path, cluser_plk))   \n",
    "    result = df_cluster['nodes'].apply(collaborative_filtering_cluster, args=(df, random_sample, ))    \n",
    "    for ix, val in result.items():    \n",
    "        if(val is None):\n",
    "            continue\n",
    "        cluster_evals[cluser_plk] = pd.concat([val , cluster_evals[cluser_plk]]) \n",
    "    path = f\"Evaulation/Clustering/{cluser_plk}\"  \n",
    "    save_pckl(path, clustser_evals[cluser_plk])   \n",
    "         "
   ]
  },
  {
   "cell_type": "code",
   "execution_count": null,
   "metadata": {},
   "outputs": [],
   "source": [
    "for key in cluster_evals:            \n",
    "    path = f\"Evaulation/Clustering/{key}\"  \n",
    "    save_pckl(path, cluster_evals[skey])    "
   ]
  }
 ],
 "metadata": {
  "interpreter": {
   "hash": "3c6710c6338c3a43678f1ef28d4c6ed63a77d410a91cdedd60b3283f85d762de"
  },
  "kernelspec": {
   "display_name": "Python 3.8.10 ('env': venv)",
   "language": "python",
   "name": "python3"
  },
  "language_info": {
   "codemirror_mode": {
    "name": "ipython",
    "version": 3
   },
   "file_extension": ".py",
   "mimetype": "text/x-python",
   "name": "python",
   "nbconvert_exporter": "python",
   "pygments_lexer": "ipython3",
   "version": "3.8.10"
  },
  "orig_nbformat": 4
 },
 "nbformat": 4,
 "nbformat_minor": 2
}
