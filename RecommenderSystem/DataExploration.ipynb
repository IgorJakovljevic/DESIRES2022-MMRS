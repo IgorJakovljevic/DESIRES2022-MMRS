{
 "cells": [
  {
   "cell_type": "code",
   "execution_count": null,
   "metadata": {},
   "outputs": [],
   "source": [
    "import pandas as pd\n",
    "import numpy as np\n",
    "import scipy.sparse as sparse\n",
    "\n",
    "from cdhf.data import Data\n",
    "\n",
    "data = Data(\"../input/mmdata.json\")\n",
    "data.load_all()"
   ]
  },
  {
   "cell_type": "code",
   "execution_count": null,
   "metadata": {},
   "outputs": [],
   "source": [
    "df = pd.DataFrame.from_records([vars(cm) for cm in data.channel_members])\n",
    "df[\"index\"] = df[\"channel_id\"] + \"-\" + df[\"user_id\"]\n",
    "df.set_index('index', inplace=True)\n",
    "\n",
    "df_grouped_users = df.groupby([\"channel_id\"]).count()\n",
    "allowed_channels = df_grouped_users[df_grouped_users[\"user_id\"] > 5].index.array\n",
    "df = df[df[\"channel_id\"].isin(allowed_channels)]\n",
    "df['u_id'] = df['user_id'].astype(\"category\").cat.codes\n",
    "df['c_id'] = df['channel_id'].astype(\"category\").cat.codes\n",
    "\n",
    "# Create lists of all users, artists and plays\n",
    "users = list(np.sort(df.u_id.unique()))\n",
    "channels = list(np.sort(df.c_id.unique()))\n",
    "interactions = list(df.msg_count)\n",
    "\n",
    "# Get the rows and columns for our new matrix\n",
    "rows = df.u_id.astype(int)\n",
    "cols = df.c_id.astype(int)\n",
    "\n",
    "# Contruct a sparse matrix for our users and items containing number of plays\n",
    "data_sparse = sparse.csr_matrix((interactions, (rows, cols)), shape=(len(users), len(channels)))"
   ]
  },
  {
   "cell_type": "markdown",
   "metadata": {},
   "source": [
    "## Overall Sparsity Measure - OS\n",
    "$$\\begin{equation*} OS=1-\\frac {N_{e}}{N_{u}\\times N_{i}} \\tag{8}\\end{equation*}$$\n",
    "\n",
    "where $N_{e}$ denotes the number of evaluations, $N_{u}$ the number of users and $N_{i}$ the number of items."
   ]
  },
  {
   "cell_type": "code",
   "execution_count": null,
   "metadata": {},
   "outputs": [],
   "source": [
    "sparsity = (1 - (len(interactions)/(len(users)*len(channels))))*100\n",
    "print(f'Sparsity {sparsity:3.2f}%')"
   ]
  },
  {
   "cell_type": "markdown",
   "metadata": {},
   "source": [
    "## Users Specific Sparsity Measure - USS\n",
    "\n",
    "$$ \\begin{equation*} USS_{u}=1-\\displaystyle \\frac {n_{u}}{max _{u\\in U}(n_{u})} \\tag{9}\\end{equation*} $$\n",
    "\n",
    "where $n_{u}$ is the number of ratings given by user u and $max _{u\\in U}$ is the maximum number of evaluations given by a single user in U , the set of all users."
   ]
  },
  {
   "cell_type": "code",
   "execution_count": null,
   "metadata": {},
   "outputs": [],
   "source": [
    "user_sparsity_df = df.copy()\n",
    "user_sparsity_df = user_sparsity_df.groupby([\"u_id\"]).count()\n",
    "user_sparsity_max = user_sparsity_df.c_id.max()\n",
    "user_sparsity_df['USS'] = (1 - (user_sparsity_df[\"c_id\"]/user_sparsity_max)) * 100\n",
    "display(user_sparsity_df['USS'].describe())\n"
   ]
  },
  {
   "cell_type": "markdown",
   "metadata": {},
   "source": [
    "## Items Specific Sparsity Measure - ISS\n",
    "\n",
    "$$ \\begin{equation*} ISS_{i}=1-\\displaystyle \\frac {n_{i}}{max _{i\\in I}(n_{i})} \\tag{10}\\end{equation*} $$\n",
    "\n",
    "where $n_{i}$ is the number of evaluations given to item i,I is the set of all items and $max _{i\\in I}$ is the maximum number of evaluations given to an item in I. Just as the $USS$, the $ISS$ is also a relative measure, but regarding items."
   ]
  },
  {
   "cell_type": "code",
   "execution_count": null,
   "metadata": {},
   "outputs": [],
   "source": [
    "item_sparsity_df = df.copy()\n",
    "item_sparsity_df = item_sparsity_df.groupby([\"c_id\"]).count()\n",
    "item_rating_max = item_sparsity_df.u_id.max()\n",
    "item_sparsity_df['ISS'] = (1 - (item_sparsity_df[\"u_id\"]/item_rating_max)) * 100\n",
    "display(item_sparsity_df['ISS'].describe())"
   ]
  },
  {
   "cell_type": "code",
   "execution_count": null,
   "metadata": {},
   "outputs": [],
   "source": [
    "print(f\"Number of users is {len(users)}\")\n",
    "print(f\"Number of channels is {len(channels)}\")\n",
    "display(data_sparse)"
   ]
  }
 ],
 "metadata": {
  "interpreter": {
   "hash": "3c6710c6338c3a43678f1ef28d4c6ed63a77d410a91cdedd60b3283f85d762de"
  },
  "kernelspec": {
   "display_name": "Python 3 (ipykernel)",
   "language": "python",
   "name": "python3"
  },
  "language_info": {
   "codemirror_mode": {
    "name": "ipython",
    "version": 3
   },
   "file_extension": ".py",
   "mimetype": "text/x-python",
   "name": "python",
   "nbconvert_exporter": "python",
   "pygments_lexer": "ipython3",
   "version": "3.8.10"
  }
 },
 "nbformat": 4,
 "nbformat_minor": 4
}
